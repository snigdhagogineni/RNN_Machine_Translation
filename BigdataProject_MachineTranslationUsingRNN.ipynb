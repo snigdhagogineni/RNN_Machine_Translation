{
  "nbformat": 4,
  "nbformat_minor": 0,
  "metadata": {
    "colab": {
      "provenance": [],
      "include_colab_link": true
    },
    "kernelspec": {
      "name": "python3",
      "display_name": "Python 3"
    },
    "language_info": {
      "name": "python"
    },
    "accelerator": "GPU",
    "gpuClass": "standard"
  },
  "cells": [
    {
      "cell_type": "markdown",
      "metadata": {
        "id": "view-in-github",
        "colab_type": "text"
      },
      "source": [
        "<a href=\"https://colab.research.google.com/github/snigdhagogineni/RNN_Machine_Translation/blob/main/BigdataProject_MachineTranslationUsingRNN.ipynb\" target=\"_parent\"><img src=\"https://colab.research.google.com/assets/colab-badge.svg\" alt=\"Open In Colab\"/></a>"
      ]
    },
    {
      "cell_type": "code",
      "source": [
        "#Installation and setting up spark (Referred graph frames lab)\n",
        "!rm -rf spark-3.1.1-bin-hadoop3.2\n",
        "!apt-get install openjdk-8-jdk-headless -qq > /dev/null\n",
        "!pip install -q findspark pyspark\n",
        "import os\n",
        "os.environ[\"JAVA_HOME\"] = \"/usr/lib/jvm/java-8-openjdk-amd64\"\n",
        "import findspark\n",
        "findspark.init()\n",
        "from pyspark.sql import SparkSession\n",
        "#sc carries the spark context\n",
        "sc = SparkSession.builder \\\n",
        "    .config(\"spark.jars\", \"/usr/local/lib/python3.10/dist-packages/pyspark/jars/graphframes-0.8.2-spark3.3.2-s_2.11.jar\") \\\n",
        "    .getOrCreate()\n",
        "\n",
        "sc.conf.set(\"spark.sql.repl.eagerEval.enabled\", True)"
      ],
      "metadata": {
        "id": "GsHLzwdAmASZ",
        "colab": {
          "base_uri": "https://localhost:8080/"
        },
        "outputId": "76874758-f1d6-4f58-fad5-72ad8c782d67"
      },
      "execution_count": null,
      "outputs": [
        {
          "output_type": "stream",
          "name": "stdout",
          "text": [
            "  Preparing metadata (setup.py) ... \u001b[?25l\u001b[?25hdone\n",
            "  Building wheel for pyspark (setup.py) ... \u001b[?25l\u001b[?25hdone\n"
          ]
        }
      ]
    },
    {
      "cell_type": "code",
      "source": [
        "\n",
        "!wget https://raw.githubusercontent.com/snigdhagogineni/big_data/main/dataset.csv -O dataset.csv"
      ],
      "metadata": {
        "colab": {
          "base_uri": "https://localhost:8080/"
        },
        "id": "40r4FXvZs1C4",
        "outputId": "02ecbac0-18ff-4436-b035-5778b6184c24"
      },
      "execution_count": null,
      "outputs": [
        {
          "output_type": "stream",
          "name": "stdout",
          "text": [
            "--2024-05-08 01:24:19--  https://raw.githubusercontent.com/snigdhagogineni/big_data/main/dataset.csv\n",
            "Resolving raw.githubusercontent.com (raw.githubusercontent.com)... 185.199.111.133, 185.199.110.133, 185.199.109.133, ...\n",
            "Connecting to raw.githubusercontent.com (raw.githubusercontent.com)|185.199.111.133|:443... connected.\n",
            "HTTP request sent, awaiting response... 200 OK\n",
            "Length: 8557837 (8.2M) [text/plain]\n",
            "Saving to: ‘dataset.csv’\n",
            "\n",
            "dataset.csv         100%[===================>]   8.16M  23.6MB/s    in 0.3s    \n",
            "\n",
            "2024-05-08 01:24:20 (23.6 MB/s) - ‘dataset.csv’ saved [8557837/8557837]\n",
            "\n"
          ]
        }
      ]
    },
    {
      "cell_type": "code",
      "source": [
        "#Importing the dataset from public hosted github\n",
        "input_df = sc.read.option(\"header\", \"true\").option(\"inferSchema\", \"true\").csv(\"dataset.csv\")"
      ],
      "metadata": {
        "id": "GrNVjRrRr6Qh"
      },
      "execution_count": null,
      "outputs": []
    },
    {
      "cell_type": "code",
      "source": [
        "input_df.show(5)"
      ],
      "metadata": {
        "colab": {
          "base_uri": "https://localhost:8080/"
        },
        "id": "QxfcDxoMe-8L",
        "outputId": "f26a1b27-2f1c-472d-ec33-bb01e5fcb0bc"
      },
      "execution_count": null,
      "outputs": [
        {
          "output_type": "stream",
          "name": "stdout",
          "text": [
            "+---+-------+-------+\n",
            "| id|english|spanish|\n",
            "+---+-------+-------+\n",
            "|  0|     go|     ve|\n",
            "|  1|     go|   vete|\n",
            "|  2|     go|   vaya|\n",
            "|  3|     go| vayase|\n",
            "|  4|     hi|   hola|\n",
            "+---+-------+-------+\n",
            "only showing top 5 rows\n",
            "\n"
          ]
        }
      ]
    },
    {
      "cell_type": "code",
      "source": [
        "input_df.count() #There are 120614 records"
      ],
      "metadata": {
        "colab": {
          "base_uri": "https://localhost:8080/"
        },
        "id": "dSN0jROvfKn-",
        "outputId": "ddfcd478-7dce-409c-b762-0b744cda04d2"
      },
      "execution_count": null,
      "outputs": [
        {
          "output_type": "execute_result",
          "data": {
            "text/plain": [
              "120614"
            ]
          },
          "metadata": {},
          "execution_count": 5
        }
      ]
    },
    {
      "cell_type": "code",
      "source": [
        "from pyspark.sql.functions import regexp_replace\n",
        "from pyspark.ml.feature import Tokenizer,StringIndexer\n",
        "#Cleaning the data by removing the special characters.\n",
        "input_df = input_df.withColumn(\"english\", regexp_replace(input_df[\"english\"], \"[^a-z\\s]\", \"\"))\n",
        "input_df = input_df.withColumn(\"spanish\", regexp_replace(input_df[\"spanish\"], \"[^a-zñ\\s]\", \"\"))\n"
      ],
      "metadata": {
        "id": "Ud8TYfpmiZGA"
      },
      "execution_count": null,
      "outputs": []
    },
    {
      "cell_type": "code",
      "source": [
        "input_df.show(5) #Analyzing the first 5 rows"
      ],
      "metadata": {
        "colab": {
          "base_uri": "https://localhost:8080/"
        },
        "id": "VucAEumfkEJO",
        "outputId": "6cb7e6a3-5d77-4e47-ccfc-2d2b941c2ae7"
      },
      "execution_count": null,
      "outputs": [
        {
          "output_type": "stream",
          "name": "stdout",
          "text": [
            "+---+-------+-------+\n",
            "| id|english|spanish|\n",
            "+---+-------+-------+\n",
            "|  0|     go|     ve|\n",
            "|  1|     go|   vete|\n",
            "|  2|     go|   vaya|\n",
            "|  3|     go| vayase|\n",
            "|  4|     hi|   hola|\n",
            "+---+-------+-------+\n",
            "only showing top 5 rows\n",
            "\n"
          ]
        }
      ]
    },
    {
      "cell_type": "code",
      "source": [
        "#Spanish language has only one extra character apart from english - ñ\n",
        "st_tok = '<st>' #Signifies start padding and end tokens\n",
        "pd_tok = '<pad>'\n",
        "e_tok = '<end>'\n",
        "\n",
        "en_voc = [st_tok,' ','a', 'b', 'c', 'd', 'e', 'f', 'g', 'h', 'i', 'j', 'k', 'l','m', 'n', 'o', 'p', 'q', 'r', 's', 't', 'u', 'v', 'w', 'x','y', 'z',pd_tok, e_tok]\n",
        "sp_voc = en_voc+['ñ']"
      ],
      "metadata": {
        "id": "QTOUSZfIhJdV"
      },
      "execution_count": null,
      "outputs": []
    },
    {
      "cell_type": "code",
      "source": [
        "#converting sentences to words and to indexed words using string indexer\n",
        "from pyspark.sql.functions import col,explode,lit,collect_list\n",
        "tokenizer = Tokenizer(inputCol=\"english\", outputCol=\"english_words\")\n",
        "df = tokenizer.transform(input_df)\n",
        "df = df.select(\"id\",\"english\", explode(\"english_words\").alias(\"english_words\"))\n",
        "indexer = StringIndexer(inputCol=\"english_words\", outputCol=\"indices\")\n",
        "indexed_df = indexer.fit(df).transform(df)\n",
        "indexed_df = indexed_df.withColumn(\"indices\", col(\"indices\").cast(\"int\"))\n",
        "indexed_df = indexed_df.withColumn(\"indexed_english_words\", col(\"indices\") + lit(1))\n",
        "english_indexed_df = indexed_df.groupby(\"english\",\"id\").agg(collect_list(\"indexed_english_words\").alias(\"english_indexed_words\"))\n",
        "english_indexed_df.show(truncate=False)"
      ],
      "metadata": {
        "colab": {
          "base_uri": "https://localhost:8080/"
        },
        "id": "jZox7TY8ktur",
        "outputId": "89753dad-3d2d-4a08-9027-bb8269e4d07f"
      },
      "execution_count": null,
      "outputs": [
        {
          "output_type": "stream",
          "name": "stdout",
          "text": [
            "+---------------------------------------------------------+------+--------------------------------------------------------+\n",
            "|english                                                  |id    |english_indexed_words                                   |\n",
            "+---------------------------------------------------------+------+--------------------------------------------------------+\n",
            "|a baby has delicate skin                                 |39504 |[6, 472, 42, 3901, 1885]                                |\n",
            "|a bad cold caused the singer to lose his voice           |106381|[6, 247, 273, 1270, 1, 1314, 3, 632, 24, 947]           |\n",
            "|a bad habit once formed is difficult to get rid of       |112625|[6, 247, 1451, 334, 4199, 7, 352, 3, 60, 1484, 10]      |\n",
            "|a ball hit her right leg                                 |39505 |[6, 997, 602, 41, 143, 1123]                            |\n",
            "|a ball hit the back of my head while i was playing soccer|115573|[6, 997, 602, 1, 112, 10, 18, 702, 291, 2, 13, 376, 868]|\n",
            "|a baseball came flying through the window                |98029 |[6, 683, 189, 1632, 510, 1, 435]                        |\n",
            "|a bear killed tom                                        |12741 |[6, 1116, 540, 5]                                       |\n",
            "|a bee flew out of the window                             |56548 |[6, 3618, 1937, 61, 10, 1, 435]                         |\n",
            "|a big crowd gathered at the scene of the fire            |104905|[6, 274, 1076, 2712, 36, 1, 2052, 10, 1, 428]           |\n",
            "|a big earthquake occurred in india yesterday             |103355|[6, 274, 1491, 2087, 9, 1686, 176]                      |\n",
            "|a big ship is anchored near here                         |72666 |[6, 274, 812, 7, 7163, 573, 56]                         |\n",
            "|a big wave turned over his canoe                         |72668 |[6, 274, 6024, 493, 181, 24, 4922]                      |\n",
            "|a bird can fly                                           |5576  |[6, 894, 39, 999]                                       |\n",
            "|a bird in the hand is better than two in the bush        |110003|[6, 894, 9, 1, 409, 7, 184, 91, 139, 9, 1, 2936]        |\n",
            "|a bird in the hand is worth two in the bush              |101694|[6, 894, 9, 1, 409, 7, 842, 139, 9, 1, 2936]            |\n",
            "|a bird is singing in the tree                            |60730 |[6, 894, 7, 838, 9, 1, 556]                             |\n",
            "|a bird was flying high up in the sky                     |85938 |[6, 894, 13, 1632, 572, 57, 9, 1, 945]                  |\n",
            "|a blender lets you mix different foods together          |107699|[6, 7270, 153, 4, 3987, 655, 2081, 353]                 |\n",
            "|a blind persons hearing is often very acute              |103357|[6, 1074, 5179, 1492, 7, 251, 51, 7118]                 |\n",
            "|a blind persons hearing is often very acute              |103358|[6, 1074, 5179, 1492, 7, 251, 51, 7118]                 |\n",
            "+---------------------------------------------------------+------+--------------------------------------------------------+\n",
            "only showing top 20 rows\n",
            "\n"
          ]
        }
      ]
    },
    {
      "cell_type": "code",
      "source": [
        "#converting sentences to words and to indexed words using string indexer for spanish\n",
        "tokenizer = Tokenizer(inputCol=\"spanish\", outputCol=\"spanish_words\")\n",
        "df = tokenizer.transform(input_df)\n",
        "df = df.select(\"id\",\"spanish\", explode(\"spanish_words\").alias(\"spanish_words\"))\n",
        "indexer = StringIndexer(inputCol=\"spanish_words\", outputCol=\"indices\")\n",
        "indexed_df = indexer.fit(df).transform(df)\n",
        "indexed_df = indexed_df.withColumn(\"indices\", col(\"indices\").cast(\"int\"))\n",
        "indexed_df = indexed_df.withColumn(\"indexed_spanish_words\", col(\"indices\") + lit(1))\n",
        "spanish_indexed_df = indexed_df.groupby(\"spanish\",\"id\").agg(collect_list(\"indexed_spanish_words\").alias(\"spanish_indexed_words\"))\n",
        "spanish_indexed_df.show(truncate=False)"
      ],
      "metadata": {
        "colab": {
          "base_uri": "https://localhost:8080/"
        },
        "id": "wgg4oK29k27s",
        "outputId": "d8f3319e-3bfe-41b1-80f5-800c81ece9a2"
      },
      "execution_count": null,
      "outputs": [
        {
          "output_type": "stream",
          "name": "stdout",
          "text": [
            "+---------------------------------------------------------------------------------------------------------+------+------------------------------------------------------------------------------------+\n",
            "|spanish                                                                                                  |id    |spanish_indexed_words                                                               |\n",
            "+---------------------------------------------------------------------------------------------------------+------+------------------------------------------------------------------------------------+\n",
            "|a algunas personas les gustan los gatos otras prefieren los perros                                       |99113 |[4, 341, 224, 197, 287, 19, 647, 1121, 5866, 19, 546]                               |\n",
            "|a algunas personas no les gusta levantarse temprano por la manana                                        |114815|[4, 341, 224, 5, 197, 56, 1690, 314, 14, 7, 77]                                     |\n",
            "|a algunas personas parece que les gusta discutir                                                         |78473 |[4, 341, 224, 123, 1, 197, 56, 1472]                                                |\n",
            "|a algunos estudiantes les gusta la lengua y literatura y a otros les gusta la fisica                     |112278|[4, 333, 378, 197, 56, 7, 610, 26, 3783, 26, 4, 585, 197, 56, 7, 2507]              |\n",
            "|a algunos ninos no les gustan las verduras                                                               |87522 |[4, 333, 182, 5, 197, 287, 27, 1739]                                                |\n",
            "|a ambos tom y a maria les gusta jugar basquetbol                                                         |101226|[4, 821, 6, 26, 4, 120, 197, 56, 310, 9178]                                         |\n",
            "|a caballo regalado no le mires el diente                                                                 |86148 |[4, 980, 5898, 5, 21, 2691, 3, 4750]                                                |\n",
            "|a caballo regalado no se le miran los dientes                                                            |86149 |[4, 980, 5898, 5, 11, 21, 5790, 19, 1019]                                           |\n",
            "|a caballo regalado no se le miran los dientes                                                            |87302 |[4, 980, 5898, 5, 11, 21, 5790, 19, 1019]                                           |\n",
            "|a cada cual lo que se merece                                                                             |9262  |[4, 225, 142, 15, 1, 11, 1410]                                                      |\n",
            "|a cada persona se le otorgo suficiente comida y ropa                                                     |106485|[4, 225, 226, 11, 21, 8523, 340, 213, 26, 498]                                      |\n",
            "|a cada santo le llega su dia                                                                             |27359 |[4, 225, 10664, 21, 1035, 18, 93]                                                   |\n",
            "|a cada uno le gustaria creer que los suenos pueden ser realidad                                          |115126|[4, 225, 176, 21, 158, 435, 1, 19, 1486, 412, 74, 535]                              |\n",
            "|a cada uno lo suyo                                                                                       |9261  |[4, 225, 176, 15, 1532]                                                             |\n",
            "|a causa de la nieve el tren no corrio                                                                    |98081 |[4, 855, 2, 7, 583, 3, 233, 5, 1314]                                                |\n",
            "|a causa del problema de la polucion del aire es posible que algun dia la bicicleta reemplace al automovil|120231|[4, 855, 39, 155, 2, 7, 10401, 39, 725, 9, 534, 1, 354, 93, 7, 401, 10540, 30, 2092]|\n",
            "|a consecuencia del golpe enloquecio                                                                      |98069 |[4, 5101, 39, 2234, 18884]                                                          |\n",
            "|a cual club perteneces                                                                                   |56242 |[4, 142, 1242, 10369]                                                               |\n",
            "|a cual de tus padres piensas que te pareces                                                              |109933|[4, 142, 2, 174, 268, 571, 1, 23, 747]                                              |\n",
            "|a cuanta gente invitaste a tu fiesta                                                                     |103633|[4, 1821, 152, 4214, 4, 29, 229]                                                    |\n",
            "+---------------------------------------------------------------------------------------------------------+------+------------------------------------------------------------------------------------+\n",
            "only showing top 20 rows\n",
            "\n"
          ]
        }
      ]
    },
    {
      "cell_type": "code",
      "source": [
        "from pyspark.sql import functions as F1\n",
        "# Count the total unique words in input\n",
        "total_unique_words_input = english_indexed_df.select(\"english_indexed_words\").distinct().count()\n",
        "\n",
        "# Calculate the length of the longest sentence in input\n",
        "length_longest_sentence_input = english_indexed_df.groupBy(\"id\").agg(F1.max(F1.size(\"english_indexed_words\")).alias(\"max_length\")).agg(F1.max(\"max_length\")).collect()[0][0]\n",
        "# Count the total unique words in output\n",
        "total_unique_words_output =spanish_indexed_df.select(\"spanish_indexed_words\").distinct().count()\n",
        "\n",
        "# Calculate the length of the longest sentence in output\n",
        "length_longest_sentence_output = spanish_indexed_df.groupBy(\"id\").agg(F1.max(F1.size(\"spanish_indexed_words\")).alias(\"max_length\")).agg(F1.max(\"max_length\")).collect()[0][0]\n",
        "padding_length=max(length_longest_sentence_input,length_longest_sentence_output)\n",
        "print(\"Total unique words in input:\", total_unique_words_input)\n",
        "print(\"Length of longest sentence in input:\", length_longest_sentence_input)\n",
        "print(\"Total unique words in output:\", total_unique_words_output)\n",
        "print(\"Length of longest sentence in output:\", length_longest_sentence_output)\n"
      ],
      "metadata": {
        "colab": {
          "base_uri": "https://localhost:8080/"
        },
        "id": "5xCe_PEok-B5",
        "outputId": "4956f644-f256-435b-c7fc-90ee988221b3"
      },
      "execution_count": null,
      "outputs": [
        {
          "output_type": "stream",
          "name": "stdout",
          "text": [
            "Total unique words in input: 103989\n",
            "Length of longest sentence in input: 47\n",
            "Total unique words in output: 114337\n",
            "Length of longest sentence in output: 53\n"
          ]
        }
      ]
    },
    {
      "cell_type": "code",
      "source": [
        "#Padding indexed words to make all words of equal length\n",
        "from pyspark.sql.functions import udf\n",
        "from pyspark.sql.types import ArrayType, IntegerType\n",
        "max_length = padding_length\n",
        "def pad_sequence(sequence):\n",
        "    padded_sequence = sequence + [0] * (max_length - len(sequence))\n",
        "    return padded_sequence\n",
        "\n",
        "pad_sequence_udf = udf(pad_sequence, ArrayType(IntegerType()))\n",
        "\n",
        "spanish_padded_df = spanish_indexed_df.withColumn(\"spanish_padded_words\", pad_sequence_udf(spanish_indexed_df[\"spanish_indexed_words\"]))\n",
        "\n",
        "spanish_padded_df.show(truncate=False)\n"
      ],
      "metadata": {
        "colab": {
          "base_uri": "https://localhost:8080/"
        },
        "id": "EaRGfHKUlHA6",
        "outputId": "5bbb2ca9-16e0-4a2f-eb13-400739b437eb"
      },
      "execution_count": null,
      "outputs": [
        {
          "output_type": "stream",
          "name": "stdout",
          "text": [
            "+---------------------------------------------------------------------------------------------------------+------+------------------------------------------------------------------------------------+------------------------------------------------------------------------------------------------------------------------------------------------------------------------------------------+\n",
            "|spanish                                                                                                  |id    |spanish_indexed_words                                                               |spanish_padded_words                                                                                                                                                                      |\n",
            "+---------------------------------------------------------------------------------------------------------+------+------------------------------------------------------------------------------------+------------------------------------------------------------------------------------------------------------------------------------------------------------------------------------------+\n",
            "|a algunas personas les gustan los gatos otras prefieren los perros                                       |99113 |[4, 341, 224, 197, 287, 19, 647, 1121, 5866, 19, 546]                               |[4, 341, 224, 197, 287, 19, 647, 1121, 5866, 19, 546, 0, 0, 0, 0, 0, 0, 0, 0, 0, 0, 0, 0, 0, 0, 0, 0, 0, 0, 0, 0, 0, 0, 0, 0, 0, 0, 0, 0, 0, 0, 0, 0, 0, 0, 0, 0, 0, 0, 0, 0, 0, 0]       |\n",
            "|a algunas personas no les gusta levantarse temprano por la manana                                        |114815|[4, 341, 224, 5, 197, 56, 1690, 314, 14, 7, 77]                                     |[4, 341, 224, 5, 197, 56, 1690, 314, 14, 7, 77, 0, 0, 0, 0, 0, 0, 0, 0, 0, 0, 0, 0, 0, 0, 0, 0, 0, 0, 0, 0, 0, 0, 0, 0, 0, 0, 0, 0, 0, 0, 0, 0, 0, 0, 0, 0, 0, 0, 0, 0, 0, 0]             |\n",
            "|a algunas personas parece que les gusta discutir                                                         |78473 |[4, 341, 224, 123, 1, 197, 56, 1472]                                                |[4, 341, 224, 123, 1, 197, 56, 1472, 0, 0, 0, 0, 0, 0, 0, 0, 0, 0, 0, 0, 0, 0, 0, 0, 0, 0, 0, 0, 0, 0, 0, 0, 0, 0, 0, 0, 0, 0, 0, 0, 0, 0, 0, 0, 0, 0, 0, 0, 0, 0, 0, 0, 0]               |\n",
            "|a algunos estudiantes les gusta la lengua y literatura y a otros les gusta la fisica                     |112278|[4, 333, 378, 197, 56, 7, 610, 26, 3783, 26, 4, 585, 197, 56, 7, 2507]              |[4, 333, 378, 197, 56, 7, 610, 26, 3783, 26, 4, 585, 197, 56, 7, 2507, 0, 0, 0, 0, 0, 0, 0, 0, 0, 0, 0, 0, 0, 0, 0, 0, 0, 0, 0, 0, 0, 0, 0, 0, 0, 0, 0, 0, 0, 0, 0, 0, 0, 0, 0, 0, 0]     |\n",
            "|a algunos ninos no les gustan las verduras                                                               |87522 |[4, 333, 182, 5, 197, 287, 27, 1739]                                                |[4, 333, 182, 5, 197, 287, 27, 1739, 0, 0, 0, 0, 0, 0, 0, 0, 0, 0, 0, 0, 0, 0, 0, 0, 0, 0, 0, 0, 0, 0, 0, 0, 0, 0, 0, 0, 0, 0, 0, 0, 0, 0, 0, 0, 0, 0, 0, 0, 0, 0, 0, 0, 0]               |\n",
            "|a ambos tom y a maria les gusta jugar basquetbol                                                         |101226|[4, 821, 6, 26, 4, 120, 197, 56, 310, 9178]                                         |[4, 821, 6, 26, 4, 120, 197, 56, 310, 9178, 0, 0, 0, 0, 0, 0, 0, 0, 0, 0, 0, 0, 0, 0, 0, 0, 0, 0, 0, 0, 0, 0, 0, 0, 0, 0, 0, 0, 0, 0, 0, 0, 0, 0, 0, 0, 0, 0, 0, 0, 0, 0, 0]              |\n",
            "|a caballo regalado no le mires el diente                                                                 |86148 |[4, 980, 5898, 5, 21, 2691, 3, 4750]                                                |[4, 980, 5898, 5, 21, 2691, 3, 4750, 0, 0, 0, 0, 0, 0, 0, 0, 0, 0, 0, 0, 0, 0, 0, 0, 0, 0, 0, 0, 0, 0, 0, 0, 0, 0, 0, 0, 0, 0, 0, 0, 0, 0, 0, 0, 0, 0, 0, 0, 0, 0, 0, 0, 0]               |\n",
            "|a caballo regalado no se le miran los dientes                                                            |86149 |[4, 980, 5898, 5, 11, 21, 5790, 19, 1019]                                           |[4, 980, 5898, 5, 11, 21, 5790, 19, 1019, 0, 0, 0, 0, 0, 0, 0, 0, 0, 0, 0, 0, 0, 0, 0, 0, 0, 0, 0, 0, 0, 0, 0, 0, 0, 0, 0, 0, 0, 0, 0, 0, 0, 0, 0, 0, 0, 0, 0, 0, 0, 0, 0, 0]             |\n",
            "|a caballo regalado no se le miran los dientes                                                            |87302 |[4, 980, 5898, 5, 11, 21, 5790, 19, 1019]                                           |[4, 980, 5898, 5, 11, 21, 5790, 19, 1019, 0, 0, 0, 0, 0, 0, 0, 0, 0, 0, 0, 0, 0, 0, 0, 0, 0, 0, 0, 0, 0, 0, 0, 0, 0, 0, 0, 0, 0, 0, 0, 0, 0, 0, 0, 0, 0, 0, 0, 0, 0, 0, 0, 0]             |\n",
            "|a cada cual lo que se merece                                                                             |9262  |[4, 225, 142, 15, 1, 11, 1410]                                                      |[4, 225, 142, 15, 1, 11, 1410, 0, 0, 0, 0, 0, 0, 0, 0, 0, 0, 0, 0, 0, 0, 0, 0, 0, 0, 0, 0, 0, 0, 0, 0, 0, 0, 0, 0, 0, 0, 0, 0, 0, 0, 0, 0, 0, 0, 0, 0, 0, 0, 0, 0, 0, 0]                  |\n",
            "|a cada persona se le otorgo suficiente comida y ropa                                                     |106485|[4, 225, 226, 11, 21, 8523, 340, 213, 26, 498]                                      |[4, 225, 226, 11, 21, 8523, 340, 213, 26, 498, 0, 0, 0, 0, 0, 0, 0, 0, 0, 0, 0, 0, 0, 0, 0, 0, 0, 0, 0, 0, 0, 0, 0, 0, 0, 0, 0, 0, 0, 0, 0, 0, 0, 0, 0, 0, 0, 0, 0, 0, 0, 0, 0]           |\n",
            "|a cada santo le llega su dia                                                                             |27359 |[4, 225, 10664, 21, 1035, 18, 93]                                                   |[4, 225, 10664, 21, 1035, 18, 93, 0, 0, 0, 0, 0, 0, 0, 0, 0, 0, 0, 0, 0, 0, 0, 0, 0, 0, 0, 0, 0, 0, 0, 0, 0, 0, 0, 0, 0, 0, 0, 0, 0, 0, 0, 0, 0, 0, 0, 0, 0, 0, 0, 0, 0, 0]               |\n",
            "|a cada uno le gustaria creer que los suenos pueden ser realidad                                          |115126|[4, 225, 176, 21, 158, 435, 1, 19, 1486, 412, 74, 535]                              |[4, 225, 176, 21, 158, 435, 1, 19, 1486, 412, 74, 535, 0, 0, 0, 0, 0, 0, 0, 0, 0, 0, 0, 0, 0, 0, 0, 0, 0, 0, 0, 0, 0, 0, 0, 0, 0, 0, 0, 0, 0, 0, 0, 0, 0, 0, 0, 0, 0, 0, 0, 0, 0]         |\n",
            "|a cada uno lo suyo                                                                                       |9261  |[4, 225, 176, 15, 1532]                                                             |[4, 225, 176, 15, 1532, 0, 0, 0, 0, 0, 0, 0, 0, 0, 0, 0, 0, 0, 0, 0, 0, 0, 0, 0, 0, 0, 0, 0, 0, 0, 0, 0, 0, 0, 0, 0, 0, 0, 0, 0, 0, 0, 0, 0, 0, 0, 0, 0, 0, 0, 0, 0, 0]                   |\n",
            "|a causa de la nieve el tren no corrio                                                                    |98081 |[4, 855, 2, 7, 583, 3, 233, 5, 1314]                                                |[4, 855, 2, 7, 583, 3, 233, 5, 1314, 0, 0, 0, 0, 0, 0, 0, 0, 0, 0, 0, 0, 0, 0, 0, 0, 0, 0, 0, 0, 0, 0, 0, 0, 0, 0, 0, 0, 0, 0, 0, 0, 0, 0, 0, 0, 0, 0, 0, 0, 0, 0, 0, 0]                  |\n",
            "|a causa del problema de la polucion del aire es posible que algun dia la bicicleta reemplace al automovil|120231|[4, 855, 39, 155, 2, 7, 10401, 39, 725, 9, 534, 1, 354, 93, 7, 401, 10540, 30, 2092]|[4, 855, 39, 155, 2, 7, 10401, 39, 725, 9, 534, 1, 354, 93, 7, 401, 10540, 30, 2092, 0, 0, 0, 0, 0, 0, 0, 0, 0, 0, 0, 0, 0, 0, 0, 0, 0, 0, 0, 0, 0, 0, 0, 0, 0, 0, 0, 0, 0, 0, 0, 0, 0, 0]|\n",
            "|a consecuencia del golpe enloquecio                                                                      |98069 |[4, 5101, 39, 2234, 18884]                                                          |[4, 5101, 39, 2234, 18884, 0, 0, 0, 0, 0, 0, 0, 0, 0, 0, 0, 0, 0, 0, 0, 0, 0, 0, 0, 0, 0, 0, 0, 0, 0, 0, 0, 0, 0, 0, 0, 0, 0, 0, 0, 0, 0, 0, 0, 0, 0, 0, 0, 0, 0, 0, 0, 0]                |\n",
            "|a cual club perteneces                                                                                   |56242 |[4, 142, 1242, 10369]                                                               |[4, 142, 1242, 10369, 0, 0, 0, 0, 0, 0, 0, 0, 0, 0, 0, 0, 0, 0, 0, 0, 0, 0, 0, 0, 0, 0, 0, 0, 0, 0, 0, 0, 0, 0, 0, 0, 0, 0, 0, 0, 0, 0, 0, 0, 0, 0, 0, 0, 0, 0, 0, 0, 0]                  |\n",
            "|a cual de tus padres piensas que te pareces                                                              |109933|[4, 142, 2, 174, 268, 571, 1, 23, 747]                                              |[4, 142, 2, 174, 268, 571, 1, 23, 747, 0, 0, 0, 0, 0, 0, 0, 0, 0, 0, 0, 0, 0, 0, 0, 0, 0, 0, 0, 0, 0, 0, 0, 0, 0, 0, 0, 0, 0, 0, 0, 0, 0, 0, 0, 0, 0, 0, 0, 0, 0, 0, 0, 0]                |\n",
            "|a cuanta gente invitaste a tu fiesta                                                                     |103633|[4, 1821, 152, 4214, 4, 29, 229]                                                    |[4, 1821, 152, 4214, 4, 29, 229, 0, 0, 0, 0, 0, 0, 0, 0, 0, 0, 0, 0, 0, 0, 0, 0, 0, 0, 0, 0, 0, 0, 0, 0, 0, 0, 0, 0, 0, 0, 0, 0, 0, 0, 0, 0, 0, 0, 0, 0, 0, 0, 0, 0, 0, 0]                |\n",
            "+---------------------------------------------------------------------------------------------------------+------+------------------------------------------------------------------------------------+------------------------------------------------------------------------------------------------------------------------------------------------------------------------------------------+\n",
            "only showing top 20 rows\n",
            "\n"
          ]
        }
      ]
    },
    {
      "cell_type": "code",
      "source": [
        "#Padding indexed words to make all words of equal length\n",
        "\n",
        "from pyspark.sql.functions import udf\n",
        "from pyspark.sql.types import ArrayType, StringType\n",
        "max_length = padding_length\n",
        "def pad_sequence(sequence):\n",
        "    padded_sequence = sequence + [0] * (max_length - len(sequence))\n",
        "    return padded_sequence\n",
        "\n",
        "pad_sequence_udf = udf(pad_sequence, ArrayType(IntegerType()))\n",
        "\n",
        "english_padded_df = english_indexed_df.withColumn(\"english_padded_words\", pad_sequence_udf(english_indexed_df[\"english_indexed_words\"]))\n",
        "\n",
        "english_padded_df.show(truncate=False)"
      ],
      "metadata": {
        "colab": {
          "base_uri": "https://localhost:8080/"
        },
        "id": "EwIATKXylIX8",
        "outputId": "04ecde3b-659e-4e0d-a0ee-5c75b26c0acc"
      },
      "execution_count": null,
      "outputs": [
        {
          "output_type": "stream",
          "name": "stdout",
          "text": [
            "+---------------------------------------------------------+------+--------------------------------------------------------+--------------------------------------------------------------------------------------------------------------------------------------------------------------------------------+\n",
            "|english                                                  |id    |english_indexed_words                                   |english_padded_words                                                                                                                                                            |\n",
            "+---------------------------------------------------------+------+--------------------------------------------------------+--------------------------------------------------------------------------------------------------------------------------------------------------------------------------------+\n",
            "|a baby has delicate skin                                 |39504 |[6, 472, 42, 3901, 1885]                                |[6, 472, 42, 3901, 1885, 0, 0, 0, 0, 0, 0, 0, 0, 0, 0, 0, 0, 0, 0, 0, 0, 0, 0, 0, 0, 0, 0, 0, 0, 0, 0, 0, 0, 0, 0, 0, 0, 0, 0, 0, 0, 0, 0, 0, 0, 0, 0, 0, 0, 0, 0, 0, 0]        |\n",
            "|a bad cold caused the singer to lose his voice           |106381|[6, 247, 273, 1270, 1, 1314, 3, 632, 24, 947]           |[6, 247, 273, 1270, 1, 1314, 3, 632, 24, 947, 0, 0, 0, 0, 0, 0, 0, 0, 0, 0, 0, 0, 0, 0, 0, 0, 0, 0, 0, 0, 0, 0, 0, 0, 0, 0, 0, 0, 0, 0, 0, 0, 0, 0, 0, 0, 0, 0, 0, 0, 0, 0, 0]  |\n",
            "|a bad habit once formed is difficult to get rid of       |112625|[6, 247, 1451, 334, 4199, 7, 352, 3, 60, 1484, 10]      |[6, 247, 1451, 334, 4199, 7, 352, 3, 60, 1484, 10, 0, 0, 0, 0, 0, 0, 0, 0, 0, 0, 0, 0, 0, 0, 0, 0, 0, 0, 0, 0, 0, 0, 0, 0, 0, 0, 0, 0, 0, 0, 0, 0, 0, 0, 0, 0, 0, 0, 0, 0, 0, 0]|\n",
            "|a ball hit her right leg                                 |39505 |[6, 997, 602, 41, 143, 1123]                            |[6, 997, 602, 41, 143, 1123, 0, 0, 0, 0, 0, 0, 0, 0, 0, 0, 0, 0, 0, 0, 0, 0, 0, 0, 0, 0, 0, 0, 0, 0, 0, 0, 0, 0, 0, 0, 0, 0, 0, 0, 0, 0, 0, 0, 0, 0, 0, 0, 0, 0, 0, 0, 0]       |\n",
            "|a ball hit the back of my head while i was playing soccer|115573|[6, 997, 602, 1, 112, 10, 18, 702, 291, 2, 13, 376, 868]|[6, 997, 602, 1, 112, 10, 18, 702, 291, 2, 13, 376, 868, 0, 0, 0, 0, 0, 0, 0, 0, 0, 0, 0, 0, 0, 0, 0, 0, 0, 0, 0, 0, 0, 0, 0, 0, 0, 0, 0, 0, 0, 0, 0, 0, 0, 0, 0, 0, 0, 0, 0, 0]|\n",
            "|a baseball came flying through the window                |98029 |[6, 683, 189, 1632, 510, 1, 435]                        |[6, 683, 189, 1632, 510, 1, 435, 0, 0, 0, 0, 0, 0, 0, 0, 0, 0, 0, 0, 0, 0, 0, 0, 0, 0, 0, 0, 0, 0, 0, 0, 0, 0, 0, 0, 0, 0, 0, 0, 0, 0, 0, 0, 0, 0, 0, 0, 0, 0, 0, 0, 0, 0]      |\n",
            "|a bear killed tom                                        |12741 |[6, 1116, 540, 5]                                       |[6, 1116, 540, 5, 0, 0, 0, 0, 0, 0, 0, 0, 0, 0, 0, 0, 0, 0, 0, 0, 0, 0, 0, 0, 0, 0, 0, 0, 0, 0, 0, 0, 0, 0, 0, 0, 0, 0, 0, 0, 0, 0, 0, 0, 0, 0, 0, 0, 0, 0, 0, 0, 0]            |\n",
            "|a bee flew out of the window                             |56548 |[6, 3618, 1937, 61, 10, 1, 435]                         |[6, 3618, 1937, 61, 10, 1, 435, 0, 0, 0, 0, 0, 0, 0, 0, 0, 0, 0, 0, 0, 0, 0, 0, 0, 0, 0, 0, 0, 0, 0, 0, 0, 0, 0, 0, 0, 0, 0, 0, 0, 0, 0, 0, 0, 0, 0, 0, 0, 0, 0, 0, 0, 0]       |\n",
            "|a big crowd gathered at the scene of the fire            |104905|[6, 274, 1076, 2712, 36, 1, 2052, 10, 1, 428]           |[6, 274, 1076, 2712, 36, 1, 2052, 10, 1, 428, 0, 0, 0, 0, 0, 0, 0, 0, 0, 0, 0, 0, 0, 0, 0, 0, 0, 0, 0, 0, 0, 0, 0, 0, 0, 0, 0, 0, 0, 0, 0, 0, 0, 0, 0, 0, 0, 0, 0, 0, 0, 0, 0]  |\n",
            "|a big earthquake occurred in india yesterday             |103355|[6, 274, 1491, 2087, 9, 1686, 176]                      |[6, 274, 1491, 2087, 9, 1686, 176, 0, 0, 0, 0, 0, 0, 0, 0, 0, 0, 0, 0, 0, 0, 0, 0, 0, 0, 0, 0, 0, 0, 0, 0, 0, 0, 0, 0, 0, 0, 0, 0, 0, 0, 0, 0, 0, 0, 0, 0, 0, 0, 0, 0, 0, 0]    |\n",
            "|a big ship is anchored near here                         |72666 |[6, 274, 812, 7, 7163, 573, 56]                         |[6, 274, 812, 7, 7163, 573, 56, 0, 0, 0, 0, 0, 0, 0, 0, 0, 0, 0, 0, 0, 0, 0, 0, 0, 0, 0, 0, 0, 0, 0, 0, 0, 0, 0, 0, 0, 0, 0, 0, 0, 0, 0, 0, 0, 0, 0, 0, 0, 0, 0, 0, 0, 0]       |\n",
            "|a big wave turned over his canoe                         |72668 |[6, 274, 6024, 493, 181, 24, 4922]                      |[6, 274, 6024, 493, 181, 24, 4922, 0, 0, 0, 0, 0, 0, 0, 0, 0, 0, 0, 0, 0, 0, 0, 0, 0, 0, 0, 0, 0, 0, 0, 0, 0, 0, 0, 0, 0, 0, 0, 0, 0, 0, 0, 0, 0, 0, 0, 0, 0, 0, 0, 0, 0, 0]    |\n",
            "|a bird can fly                                           |5576  |[6, 894, 39, 999]                                       |[6, 894, 39, 999, 0, 0, 0, 0, 0, 0, 0, 0, 0, 0, 0, 0, 0, 0, 0, 0, 0, 0, 0, 0, 0, 0, 0, 0, 0, 0, 0, 0, 0, 0, 0, 0, 0, 0, 0, 0, 0, 0, 0, 0, 0, 0, 0, 0, 0, 0, 0, 0, 0]            |\n",
            "|a bird in the hand is better than two in the bush        |110003|[6, 894, 9, 1, 409, 7, 184, 91, 139, 9, 1, 2936]        |[6, 894, 9, 1, 409, 7, 184, 91, 139, 9, 1, 2936, 0, 0, 0, 0, 0, 0, 0, 0, 0, 0, 0, 0, 0, 0, 0, 0, 0, 0, 0, 0, 0, 0, 0, 0, 0, 0, 0, 0, 0, 0, 0, 0, 0, 0, 0, 0, 0, 0, 0, 0, 0]     |\n",
            "|a bird in the hand is worth two in the bush              |101694|[6, 894, 9, 1, 409, 7, 842, 139, 9, 1, 2936]            |[6, 894, 9, 1, 409, 7, 842, 139, 9, 1, 2936, 0, 0, 0, 0, 0, 0, 0, 0, 0, 0, 0, 0, 0, 0, 0, 0, 0, 0, 0, 0, 0, 0, 0, 0, 0, 0, 0, 0, 0, 0, 0, 0, 0, 0, 0, 0, 0, 0, 0, 0, 0, 0]      |\n",
            "|a bird is singing in the tree                            |60730 |[6, 894, 7, 838, 9, 1, 556]                             |[6, 894, 7, 838, 9, 1, 556, 0, 0, 0, 0, 0, 0, 0, 0, 0, 0, 0, 0, 0, 0, 0, 0, 0, 0, 0, 0, 0, 0, 0, 0, 0, 0, 0, 0, 0, 0, 0, 0, 0, 0, 0, 0, 0, 0, 0, 0, 0, 0, 0, 0, 0, 0]           |\n",
            "|a bird was flying high up in the sky                     |85938 |[6, 894, 13, 1632, 572, 57, 9, 1, 945]                  |[6, 894, 13, 1632, 572, 57, 9, 1, 945, 0, 0, 0, 0, 0, 0, 0, 0, 0, 0, 0, 0, 0, 0, 0, 0, 0, 0, 0, 0, 0, 0, 0, 0, 0, 0, 0, 0, 0, 0, 0, 0, 0, 0, 0, 0, 0, 0, 0, 0, 0, 0, 0, 0]      |\n",
            "|a blender lets you mix different foods together          |107699|[6, 7270, 153, 4, 3987, 655, 2081, 353]                 |[6, 7270, 153, 4, 3987, 655, 2081, 353, 0, 0, 0, 0, 0, 0, 0, 0, 0, 0, 0, 0, 0, 0, 0, 0, 0, 0, 0, 0, 0, 0, 0, 0, 0, 0, 0, 0, 0, 0, 0, 0, 0, 0, 0, 0, 0, 0, 0, 0, 0, 0, 0, 0, 0]  |\n",
            "|a blind persons hearing is often very acute              |103357|[6, 1074, 5179, 1492, 7, 251, 51, 7118]                 |[6, 1074, 5179, 1492, 7, 251, 51, 7118, 0, 0, 0, 0, 0, 0, 0, 0, 0, 0, 0, 0, 0, 0, 0, 0, 0, 0, 0, 0, 0, 0, 0, 0, 0, 0, 0, 0, 0, 0, 0, 0, 0, 0, 0, 0, 0, 0, 0, 0, 0, 0, 0, 0, 0]  |\n",
            "|a blind persons hearing is often very acute              |103358|[6, 1074, 5179, 1492, 7, 251, 51, 7118]                 |[6, 1074, 5179, 1492, 7, 251, 51, 7118, 0, 0, 0, 0, 0, 0, 0, 0, 0, 0, 0, 0, 0, 0, 0, 0, 0, 0, 0, 0, 0, 0, 0, 0, 0, 0, 0, 0, 0, 0, 0, 0, 0, 0, 0, 0, 0, 0, 0, 0, 0, 0, 0, 0, 0]  |\n",
            "+---------------------------------------------------------+------+--------------------------------------------------------+--------------------------------------------------------------------------------------------------------------------------------------------------------------------------------+\n",
            "only showing top 20 rows\n",
            "\n"
          ]
        }
      ]
    },
    {
      "cell_type": "code",
      "source": [
        "#Joining english and spanish dataframes together\n",
        "english_spanish_padded_df=english_padded_df.join(spanish_padded_df,english_padded_df.id==spanish_padded_df.id)"
      ],
      "metadata": {
        "id": "SUb2MO3alQxR"
      },
      "execution_count": null,
      "outputs": []
    },
    {
      "cell_type": "code",
      "source": [
        "english_spanish_padded_df.show()"
      ],
      "metadata": {
        "colab": {
          "base_uri": "https://localhost:8080/"
        },
        "id": "asBZWn4KlUc5",
        "outputId": "eecce708-c2c5-4c48-c2c9-542ceb12ae8f"
      },
      "execution_count": null,
      "outputs": [
        {
          "output_type": "stream",
          "name": "stdout",
          "text": [
            "+--------------------+------+---------------------+--------------------+--------------------+------+---------------------+--------------------+\n",
            "|             english|    id|english_indexed_words|english_padded_words|             spanish|    id|spanish_indexed_words|spanish_padded_words|\n",
            "+--------------------+------+---------------------+--------------------+--------------------+------+---------------------+--------------------+\n",
            "|a baby has delica...| 39504| [6, 472, 42, 3901...|[6, 472, 42, 3901...|un bebe tiene la ...| 39504| [10, 336, 37, 7, ...|[10, 336, 37, 7, ...|\n",
            "|a bad cold caused...|106381| [6, 247, 273, 127...|[6, 247, 273, 127...|un serio resfriad...|106381| [10, 875, 1236, 2...|[10, 875, 1236, 2...|\n",
            "|a bad habit once ...|112625| [6, 247, 1451, 33...|[6, 247, 1451, 33...|es dificil deshac...|112625| [9, 193, 6976, 2,...|[9, 193, 6976, 2,...|\n",
            "|a ball hit her ri...| 39505| [6, 997, 602, 41,...|[6, 997, 602, 41,...|una pelota le peg...| 39505| [16, 1180, 21, 15...|[16, 1180, 21, 15...|\n",
            "|a ball hit the ba...|115573| [6, 997, 602, 1, ...|[6, 997, 602, 1, ...|una pelota me peg...|115573| [16, 1180, 12, 15...|[16, 1180, 12, 15...|\n",
            "|a baseball came f...| 98029| [6, 683, 189, 163...|[6, 683, 189, 163...|una pelota de bei...| 98029| [16, 1180, 2, 683...|[16, 1180, 2, 683...|\n",
            "|   a bear killed tom| 12741|    [6, 1116, 540, 5]|[6, 1116, 540, 5,...|   un oso mato a tom| 12741| [10, 2923, 1408, ...|[10, 2923, 1408, ...|\n",
            "|a bee flew out of...| 56548| [6, 3618, 1937, 6...|[6, 3618, 1937, 6...|la abeja salio po...| 56548| [7, 4627, 450, 14...|[7, 4627, 450, 14...|\n",
            "|a big crowd gathe...|104905| [6, 274, 1076, 27...|[6, 274, 1076, 27...|una gran multitud...|104905| [16, 234, 1250, 1...|[16, 234, 1250, 1...|\n",
            "|a big earthquake ...|103355| [6, 274, 1491, 20...|[6, 274, 1491, 20...|ayer hubo un gran...|103355| [134, 807, 10, 23...|[134, 807, 10, 23...|\n",
            "|a big ship is anc...| 72666| [6, 274, 812, 7, ...|[6, 274, 812, 7, ...|un barco grande e...| 72666| [10, 739, 260, 13...|[10, 739, 260, 13...|\n",
            "|a big wave turned...| 72668| [6, 274, 6024, 49...|[6, 274, 6024, 49...|una gran ola volc...| 72668| [16, 234, 10276, ...|[16, 234, 10276, ...|\n",
            "|      a bird can fly|  5576|    [6, 894, 39, 999]|[6, 894, 39, 999,...|un pajaro puede v...|  5576| [10, 1038, 66, 1742]|[10, 1038, 66, 17...|\n",
            "|a bird in the han...|110003| [6, 894, 9, 1, 40...|[6, 894, 9, 1, 40...|mas vale pajaro e...|110003| [28, 700, 1038, 8...|[28, 700, 1038, 8...|\n",
            "|a bird in the han...|101694| [6, 894, 9, 1, 40...|[6, 894, 9, 1, 40...|mas vale pajaro e...|101694| [28, 700, 1038, 8...|[28, 700, 1038, 8...|\n",
            "|a bird is singing...| 60730| [6, 894, 7, 838, ...|[6, 894, 7, 838, ...|un pajaro esta ca...| 60730| [10, 1038, 13, 17...|[10, 1038, 13, 17...|\n",
            "|a bird was flying...| 85938| [6, 894, 13, 1632...|[6, 894, 13, 1632...|un pajaro volaba ...| 85938| [10, 1038, 8905, ...|[10, 1038, 8905, ...|\n",
            "|a blender lets yo...|107699| [6, 7270, 153, 4,...|[6, 7270, 153, 4,...|una batidora te p...|107699| [16, 16261, 23, 1...|[16, 16261, 23, 1...|\n",
            "|a blind persons h...|103357| [6, 1074, 5179, 1...|[6, 1074, 5179, 1...|el oido de un cie...|103357| [3, 456, 2, 10, 1...|[3, 456, 2, 10, 1...|\n",
            "|a blind persons h...|103358| [6, 1074, 5179, 1...|[6, 1074, 5179, 1...|los ciegos a menu...|103358| [19, 7872, 4, 321...|[19, 7872, 4, 321...|\n",
            "+--------------------+------+---------------------+--------------------+--------------------+------+---------------------+--------------------+\n",
            "only showing top 20 rows\n",
            "\n"
          ]
        }
      ]
    },
    {
      "cell_type": "code",
      "source": [
        "#Creating indices for english and spanish vocab\n",
        "in_to_sp = {k:v for k,v in enumerate(sp_voc)}\n",
        "sp_to_in = {v:k for k,v in enumerate(sp_voc)}\n",
        "in_to_en = {k:v for k,v in enumerate(en_voc)}\n",
        "en_to_in = {v:k for k,v in enumerate(en_voc)}"
      ],
      "metadata": {
        "id": "oyNqUMz1kTi7"
      },
      "execution_count": null,
      "outputs": []
    },
    {
      "cell_type": "code",
      "source": [],
      "metadata": {
        "id": "bRKU5gV2khcn"
      },
      "execution_count": null,
      "outputs": []
    },
    {
      "cell_type": "code",
      "source": [
        "en_sent = [row['english'] for row in english_spanish_padded_df.select('english').collect()]\n",
        "sp_sent = [row['spanish'] for row in english_spanish_padded_df.select('spanish').collect()]\n"
      ],
      "metadata": {
        "id": "9SYGjRdoxRg-"
      },
      "execution_count": null,
      "outputs": []
    },
    {
      "cell_type": "code",
      "source": [
        "en_sent[:10]"
      ],
      "metadata": {
        "colab": {
          "base_uri": "https://localhost:8080/"
        },
        "id": "CUB-BkgFxXfM",
        "outputId": "e2ae141f-dbae-4362-e807-78ae7fba0d59"
      },
      "execution_count": null,
      "outputs": [
        {
          "output_type": "execute_result",
          "data": {
            "text/plain": [
              "['got it',\n",
              " 'call us',\n",
              " 'hi guys',\n",
              " 'tom left',\n",
              " 'is it bad',\n",
              " 'tom moved',\n",
              " 'count on it',\n",
              " 'get started',\n",
              " 'im serious',\n",
              " 'its normal']"
            ]
          },
          "metadata": {},
          "execution_count": 18
        }
      ]
    },
    {
      "cell_type": "code",
      "source": [
        "sp_sent[:10]"
      ],
      "metadata": {
        "colab": {
          "base_uri": "https://localhost:8080/"
        },
        "id": "8OT-aznAxc5U",
        "outputId": "08424548-9881-49d9-80df-c064f5bcf18d"
      },
      "execution_count": null,
      "outputs": [
        {
          "output_type": "execute_result",
          "data": {
            "text/plain": [
              "['entendiste',\n",
              " 'llamanos',\n",
              " 'que pasa troncos',\n",
              " 'tom se fue',\n",
              " 'es malo',\n",
              " 'tom se mudo',\n",
              " 'cuenta con eso',\n",
              " 'empieza',\n",
              " 'lo digo en serio',\n",
              " 'es normal']"
            ]
          },
          "metadata": {},
          "execution_count": 19
        }
      ]
    },
    {
      "cell_type": "code",
      "source": [
        "#check_tokens verifies validity of a sentence based on vocab\n",
        "m_seq_l = 200\n",
        "\n",
        "def check_tokens(s, v):\n",
        "    for t in list(set(s)):\n",
        "        if t not in v:\n",
        "            print(t)\n",
        "            return False\n",
        "    return True\n",
        "#check_size verifies size of a sentence based on m_seq_l\n",
        "\n",
        "def check_size(s, m_seq_l):\n",
        "    #print(len(list(s)))\n",
        "    return len(list(s)) < (m_seq_l - 1)\n",
        "\n",
        "vs_ind = []\n",
        "for i in range(len(sp_sent)):\n",
        "    sp_s, en_s = sp_sent[i], en_sent[i]\n",
        "    if check_size(sp_s, m_seq_l) \\\n",
        "      and check_size(en_s, m_seq_l) \\\n",
        "      and check_tokens(sp_s, sp_voc):\n",
        "        vs_ind.append(i)"
      ],
      "metadata": {
        "id": "HG9ezqvaxl4b"
      },
      "execution_count": null,
      "outputs": []
    },
    {
      "cell_type": "code",
      "source": [
        "len(vs_ind) #out of 120614 sentences 120607 are valid"
      ],
      "metadata": {
        "colab": {
          "base_uri": "https://localhost:8080/"
        },
        "id": "kLY0szBK2lzg",
        "outputId": "68714bbd-0c0e-4042-a2a9-c577625a98c7"
      },
      "execution_count": null,
      "outputs": [
        {
          "output_type": "execute_result",
          "data": {
            "text/plain": [
              "120607"
            ]
          },
          "metadata": {},
          "execution_count": 21
        }
      ]
    },
    {
      "cell_type": "code",
      "source": [
        "sp_sent = [sp_sent[i] for i in vs_ind]\n",
        "en_sent = [en_sent[i] for i in vs_ind]"
      ],
      "metadata": {
        "id": "o80QDn4CxsV7"
      },
      "execution_count": null,
      "outputs": []
    },
    {
      "cell_type": "code",
      "source": [
        "len(sp_sent)"
      ],
      "metadata": {
        "colab": {
          "base_uri": "https://localhost:8080/"
        },
        "id": "cDS2BGOk3HF6",
        "outputId": "e745cc96-9ad0-4319-9e5b-3acce8b839d1"
      },
      "execution_count": null,
      "outputs": [
        {
          "output_type": "execute_result",
          "data": {
            "text/plain": [
              "120607"
            ]
          },
          "metadata": {},
          "execution_count": 23
        }
      ]
    },
    {
      "cell_type": "code",
      "source": [
        "sp_sent[:3]"
      ],
      "metadata": {
        "colab": {
          "base_uri": "https://localhost:8080/"
        },
        "id": "35xhLztQiLIQ",
        "outputId": "dfc22f8d-e005-4abc-aa29-83336a8314e2"
      },
      "execution_count": null,
      "outputs": [
        {
          "output_type": "execute_result",
          "data": {
            "text/plain": [
              "['entendiste', 'llamanos', 'que pasa troncos']"
            ]
          },
          "metadata": {},
          "execution_count": 24
        }
      ]
    },
    {
      "cell_type": "code",
      "source": [
        "print(len(sp_sent))\n",
        "print(len(en_sent))"
      ],
      "metadata": {
        "colab": {
          "base_uri": "https://localhost:8080/"
        },
        "id": "yJojm1E8pWag",
        "outputId": "3517846c-2f33-4940-c69e-fb1532fe127a"
      },
      "execution_count": null,
      "outputs": [
        {
          "output_type": "stream",
          "name": "stdout",
          "text": [
            "120607\n",
            "120607\n"
          ]
        }
      ]
    },
    {
      "cell_type": "code",
      "source": [
        "#Converting valid sentences to spark dataframe\n",
        "filtered_data = zip(en_sent, sp_sent)\n",
        "data_rdd = sc.sparkContext.parallelize(filtered_data)\n",
        "final_data = sc.createDataFrame(data_rdd, [\"english\", \"spanish\"])"
      ],
      "metadata": {
        "id": "lbgBnvt17w1V"
      },
      "execution_count": null,
      "outputs": []
    },
    {
      "cell_type": "code",
      "source": [
        "final_data.show()"
      ],
      "metadata": {
        "colab": {
          "base_uri": "https://localhost:8080/"
        },
        "id": "1RofDJS68C-j",
        "outputId": "b3ede8bf-0b00-4aaa-f19a-267df4ca664c"
      },
      "execution_count": null,
      "outputs": [
        {
          "output_type": "stream",
          "name": "stdout",
          "text": [
            "+------------+--------------------+\n",
            "|     english|             spanish|\n",
            "+------------+--------------------+\n",
            "|      got it|          entendiste|\n",
            "|     call us|            llamanos|\n",
            "|     hi guys|    que pasa troncos|\n",
            "|    tom left|          tom se fue|\n",
            "|   is it bad|             es malo|\n",
            "|   tom moved|         tom se mudo|\n",
            "| count on it|      cuenta con eso|\n",
            "| get started|             empieza|\n",
            "|  im serious|    lo digo en serio|\n",
            "|  its normal|           es normal|\n",
            "| they called|            llamaron|\n",
            "| this is bad|         eso es malo|\n",
            "| this is ice|       esto es hielo|\n",
            "| tom giggled|tom solto una risita|\n",
            "|come with us|  venid con nosotros|\n",
            "| i cant sing|     no puedo cantar|\n",
            "| ill be free|          sere libre|\n",
            "| im a farmer|     soy un granjero|\n",
            "|is that mine|       es ese el mio|\n",
            "|please leave|  por favor marchese|\n",
            "+------------+--------------------+\n",
            "only showing top 20 rows\n",
            "\n"
          ]
        }
      ]
    },
    {
      "cell_type": "code",
      "source": [
        "#Splitting available dataset to train and test data : 80/20 split\n",
        "train_ratio = 0.8\n",
        "test_ratio = 1 - train_ratio\n",
        "train_df, test_df = final_data.randomSplit([train_ratio, test_ratio], seed=42)\n",
        "print(\"Training set size:\", train_df.count())\n",
        "print(\"Testing set size:\", test_df.count())"
      ],
      "metadata": {
        "colab": {
          "base_uri": "https://localhost:8080/"
        },
        "id": "DWyI2JJT8GqN",
        "outputId": "c07fae99-2a62-4e00-f6ce-3192bbf9d261"
      },
      "execution_count": null,
      "outputs": [
        {
          "output_type": "stream",
          "name": "stdout",
          "text": [
            "Training set size: 96445\n",
            "Testing set size: 24162\n"
          ]
        }
      ]
    },
    {
      "cell_type": "code",
      "source": [
        "train_df.show(5)"
      ],
      "metadata": {
        "colab": {
          "base_uri": "https://localhost:8080/"
        },
        "id": "rHWcY1mA8QUV",
        "outputId": "6ccff636-96b2-49c5-9d61-e8d2605dc821"
      },
      "execution_count": null,
      "outputs": [
        {
          "output_type": "stream",
          "name": "stdout",
          "text": [
            "+--------------------+--------------------+\n",
            "|             english|             spanish|\n",
            "+--------------------+--------------------+\n",
            "|a baby has delica...|un bebe tiene la ...|\n",
            "|a baby is sleepin...|un bebe duerme en...|\n",
            "|a band of robbers...|una banda de ladr...|\n",
            "|a beam of sunligh...|un rayo de sol at...|\n",
            "|   a bear killed tom|   un oso mato a tom|\n",
            "+--------------------+--------------------+\n",
            "only showing top 5 rows\n",
            "\n"
          ]
        }
      ]
    },
    {
      "cell_type": "code",
      "source": [
        "import numpy as np\n",
        "import torch\n",
        "import math\n",
        "from torch import nn\n",
        "import torch.nn.functional as F\n",
        "#getting available processing device\n",
        "def get_device():\n",
        "    return torch.device('cuda') if torch.cuda.is_available() else torch.device('cpu')\n",
        "#getting scaled dot product of scalars\n",
        "def sc_d_p(q, k, v, m=None):\n",
        "    dk1 = q.size()[-1]\n",
        "    sc = torch.matmul(q, k.transpose(-1, -2)) / math.sqrt(dk1)\n",
        "    if m is not None:\n",
        "        sc = sc.permute(1, 0, 2, 3) + m\n",
        "        sc = sc.permute(1, 0, 2, 3)\n",
        "    at = F.softmax(sc, dim=-1)\n",
        "    val = torch.matmul(at, v)\n",
        "    return val, at\n",
        "#defining forward pass of encoder layer\n",
        "class PosEnc(nn.Module):\n",
        "    def __init__(self, d_m, m_seq_l):\n",
        "        super().__init__()\n",
        "        self.m_seq_l, self.d_m = m_seq_l, d_m\n",
        "\n",
        "    def forward(self):\n",
        "        ei = torch.arange(0, self.d_m, 2).float()\n",
        "        denom = torch.pow(10000, ei/self.d_m)\n",
        "        pos = (torch.arange(self.m_seq_l)\n",
        "                          .reshape(self.m_seq_l, 1))\n",
        "        e_P, o_P = torch.sin(pos / denom), torch.cos(pos/ denom)\n",
        "        s = torch.stack([e_P, o_P], dim=2)\n",
        "        pe = torch.flatten(s, start_dim=1, end_dim=2)\n",
        "        return pe\n",
        "#defining sentence embedding layer\n",
        "class SentEmb(nn.Module):\n",
        "    def __init__(self, m_seq_l, d_m, l_to_i, st_tok, e_tok, pd_tok):\n",
        "        super().__init__()\n",
        "        self.vocab_size, self.m_seq_l = len(l_to_i), m_seq_l\n",
        "        self.embedding, self.l_to_i = nn.Embedding(self.vocab_size, d_m), l_to_i\n",
        "        self.pos_enc, self.dout = PosEnc(d_m, m_seq_l), nn.Dropout(p=0.1)\n",
        "        self.st_tok, self.e_tok, self.pd_tok = st_tok, e_tok, pd_tok\n",
        "\n",
        "    def bat_toks(self, b, st_tok, e_tok):\n",
        "        #generating tokens from sentence\n",
        "        def get_tokens(se, st_tok, e_tok):\n",
        "            swi = [self.l_to_i[token] for token in list(se)]\n",
        "            if st_tok:\n",
        "                swi.insert(0, self.l_to_i[self.st_tok])\n",
        "            if e_tok:\n",
        "                swi.append(self.l_to_i[self.e_tok])\n",
        "            for _ in range(len(swi), self.m_seq_l):\n",
        "                swi.append(self.l_to_i[self.pd_tok])\n",
        "            return torch.tensor(swi)\n",
        "\n",
        "        toks = []\n",
        "        for se_num in range(len(b)):\n",
        "           toks.append( get_tokens(b[se_num], st_tok, e_tok) )\n",
        "        toks = torch.stack(toks)\n",
        "        return toks.to(get_device())\n",
        "    #forward pass of embedding layer\n",
        "    def forward(self, x1, st_tok, e_tok):\n",
        "        x1 = self.bat_toks(x1, st_tok, e_tok)\n",
        "        x1 = self.embedding(x1)\n",
        "        pos = self.pos_enc().to(get_device())\n",
        "        x1 = self.dout(x1 + pos)\n",
        "        return x1\n",
        "\n",
        "#defining forward pass of multi head attention layer\n",
        "class MHAttn(nn.Module):\n",
        "    def __init__(self, d_m, n_h):\n",
        "        super().__init__()\n",
        "        self.d_m, self.n_h = d_m, n_h\n",
        "        self.h_d = d_m // n_h\n",
        "        self.qkvl = nn.Linear(d_m , 3 * d_m)\n",
        "        self.ll = nn.Linear(d_m, d_m)\n",
        "\n",
        "    def forward(self, x, mask):\n",
        "        b_size, sl, d_m = x.size()\n",
        "        qkv1 = self.qkvl(x)\n",
        "        qkv1 = qkv1.reshape(b_size, sl, self.n_h, 3 * self.h_d)\n",
        "        qkv1 = qkv1.permute(0, 2, 1, 3)\n",
        "        q1, k1, v1 = qkv1.chunk(3, dim=-1)\n",
        "        val, at = sc_d_p(q1, k1, v1, mask)\n",
        "        val = val.permute(0, 2, 1, 3).reshape(b_size, sl, self.n_h * self.h_d)\n",
        "        o = self.ll(val)\n",
        "        return o\n",
        "\n",
        "#forward pass of normalization layer\n",
        "class LayerNorm(nn.Module):\n",
        "    def __init__(self, ps, eps=1e-5):\n",
        "        super().__init__()\n",
        "        self.ps, self.eps = ps, eps\n",
        "        self.gamma = nn.Parameter(torch.ones(ps))\n",
        "        self.beta =  nn.Parameter(torch.zeros(ps))\n",
        "\n",
        "    def forward(self, vs):\n",
        "        d = [-(i + 1) for i in range(len(self.ps))]\n",
        "        m = vs.mean(dim=d, keepdim=True)\n",
        "        v = ((vs - m) ** 2).mean(dim=d, keepdim=True)\n",
        "        s = (v+ self.eps).sqrt()\n",
        "        y = (vs - m) / s\n",
        "        o= self.gamma * y + self.beta\n",
        "        return o\n",
        "\n",
        "#forward pass of feed forward layer\n",
        "class PosWiseFF(nn.Module):\n",
        "    def __init__(self, d_m, h, dp=0.1):\n",
        "        super(PosWiseFF, self).__init__()\n",
        "        self.li1 = nn.Linear(d_m, h)\n",
        "        self.li2 = nn.Linear(h, d_m)\n",
        "        self.relu, self.dout = nn.ReLU(), nn.Dropout(p=dp)\n",
        "\n",
        "    def forward(self, x1):\n",
        "        x1 = self.li1(x1)\n",
        "        x1 = self.relu(x1)\n",
        "        x1 = self.dout(x1)\n",
        "        x1 = self.li2(x1)\n",
        "        return x1\n",
        "\n",
        "#forward pass of encoder layer\n",
        "class EncLayer(nn.Module):\n",
        "    def __init__(self, d_m, ffn_h, n_h, dp):\n",
        "        super(EncLayer, self).__init__()\n",
        "        self.at = MHAttn(d_m=d_m, n_h=n_h)\n",
        "        self.n1, self.dout1 = LayerNorm(ps=[d_m]), nn.Dropout(p=dp)\n",
        "        self.ffn = PosWiseFF(d_m=d_m, h=ffn_h, dp=dp)\n",
        "        self.n2, self.dout2 = LayerNorm(ps=[d_m]), nn.Dropout(p=dp)\n",
        "\n",
        "\n",
        "    def forward(self, y, sam):\n",
        "        res_y = y.clone()\n",
        "        y = self.at(y, mask=sam)\n",
        "        y = self.dout1(y)\n",
        "        y = self.n1(y + res_y)\n",
        "        res_y = y.clone()\n",
        "        y = self.ffn(y)\n",
        "        y = self.dout2(y)\n",
        "        y = self.n2(y + res_y)\n",
        "        return y\n",
        "#forward pass of sequential encoder layer\n",
        "class SeqEnc(nn.Sequential):\n",
        "    def forward(self, *vs):\n",
        "        y, sam  = vs\n",
        "        for module in self._modules.values():\n",
        "            y = module(y, sam)\n",
        "        return y\n",
        "#forward pass of encoder\n",
        "class Enc(nn.Module):\n",
        "    def __init__(self,d_m,ffn_h,n_h,dp,n_l,m_seq_l,l_to_i,st_tok,e_tok,pd_tok):\n",
        "        super().__init__()\n",
        "        self.se_em = SentEmb(m_seq_l, d_m, l_to_i, st_tok, e_tok, pd_tok)\n",
        "        self.ls = SeqEnc(*[EncLayer(d_m, ffn_h, n_h, dp)\n",
        "                                      for _ in range(n_l)])\n",
        "\n",
        "    def forward(self, y, sam, st_tok, e_tok):\n",
        "        y = self.se_em(y, st_tok, e_tok)\n",
        "        y= self.ls(y, sam)\n",
        "        return y\n",
        "\n",
        "#forward pass of multi head cross attention layer\n",
        "class MHCAttention(nn.Module):\n",
        "    def __init__(self, d_m, n_h):\n",
        "        super().__init__()\n",
        "        self.d_m, self.n_h = d_m, n_h\n",
        "        self.h_d = d_m // n_h\n",
        "        self.kvl = nn.Linear(d_m , 2 * d_m)\n",
        "        self.q_layer = nn.Linear(d_m , d_m)\n",
        "        self.ll = nn.Linear(d_m, d_m)\n",
        "\n",
        "    def forward(self, x1, y1, mask):\n",
        "        b_size, sl, d_m = x1.size()\n",
        "        kv1 = self.kvl(x1)\n",
        "        q1 = self.q_layer(y1)\n",
        "        kv1 = kv1.reshape(b_size, sl, self.n_h, 2 * self.h_d)\n",
        "        q1 = q1.reshape(b_size, sl, self.n_h, self.h_d)\n",
        "        kv1 = kv1.permute(0, 2, 1, 3)\n",
        "        q1 = q1.permute(0, 2, 1, 3)\n",
        "        k1, v1 = kv1.chunk(2, dim=-1)\n",
        "        val, at = sc_d_p(q1, k1, v1, mask)\n",
        "        val = val.permute(0, 2, 1, 3).reshape(b_size, sl, d_m)\n",
        "        o = self.ll(val)\n",
        "        return o\n",
        "\n",
        "#forward pass of decoder layer\n",
        "class DecLayer(nn.Module):\n",
        "    def __init__(self, d_m, ffn_h, n_h, dp):\n",
        "        super(DecLayer, self).__init__()\n",
        "        self.sa = MHAttn(d_m=d_m, n_h=n_h)\n",
        "        self.lnorm1, self.dout1 = LayerNorm(ps=[d_m]), nn.Dropout(p=dp)\n",
        "\n",
        "        self.ed_at = MHCAttention(d_m=d_m, n_h=n_h)\n",
        "        self.lnorm2, self.dout2 = LayerNorm(ps=[d_m]), nn.Dropout(p=dp)\n",
        "\n",
        "        self.ffn = PosWiseFF(d_m=d_m, h=ffn_h, dp=dp)\n",
        "        self.lnorm3, self.dout3 = LayerNorm(ps=[d_m]), nn.Dropout(p=dp)\n",
        "\n",
        "    def forward(self, x1, y1, sam, cam):\n",
        "        _y1 = y1.clone()\n",
        "        y1 = self.sa(y1, mask=sam)\n",
        "        y1 = self.dout1(y1)\n",
        "        y1 = self.lnorm1(y1 + _y1)\n",
        "\n",
        "        _y1 = y1.clone()\n",
        "        y1 = self.ed_at(x1, y1, mask=cam)\n",
        "        y1 = self.dout2(y1)\n",
        "        y1 = self.lnorm2(y1 + _y1)\n",
        "\n",
        "        _y1 = y1.clone()\n",
        "        y1 = self.ffn(y1)\n",
        "        y1 = self.dout3(y1)\n",
        "        y1 = self.lnorm3(y1 + _y1)\n",
        "        return y1\n",
        "\n",
        "#forward pass of sequential decoder layer\n",
        "class SeqDec(nn.Sequential):\n",
        "    def forward(self, *vs):\n",
        "        x1, y1, sam, cam = vs\n",
        "        for module in self._modules.values():\n",
        "            y1 = module(x1, y1, sam, cam)\n",
        "        return y1\n",
        "#forward pass of decoder\n",
        "class Dec(nn.Module):\n",
        "    def __init__(self,d_m,ffn_h,n_h,dp,n_l,m_seq_l,l_to_i,st_tok,e_tok,pd_tok):\n",
        "        super().__init__()\n",
        "        self.se_em = SentEmb(m_seq_l, d_m, l_to_i, st_tok, e_tok, pd_tok)\n",
        "        self.ls = SeqDec(*[DecLayer(d_m, ffn_h, n_h, dp) for _ in range(n_l)])\n",
        "\n",
        "    def forward(self, x1, y1, sam, cam, st_tok, e_tok):\n",
        "        y1 = self.se_em(y1, st_tok, e_tok)\n",
        "        y1 = self.ls(x1, y1, sam, cam)\n",
        "        return y1\n",
        "\n",
        "#Defining neural network architecture based on encoder and decoder\n",
        "class NeuralNet(nn.Module):\n",
        "    def __init__(self,d_m,ffn_h,n_h,dp,n_l,m_seq_l,sp_voc_s,en_to_in,sp_to_in,st_tok,e_tok,pd_tok\n",
        "                ):\n",
        "        super().__init__()\n",
        "        self.enc = Enc(d_m, ffn_h, n_h, dp, n_l, m_seq_l, en_to_in, st_tok, e_tok, pd_tok)\n",
        "        self.dec = Dec(d_m, ffn_h, n_h, dp, n_l, m_seq_l, sp_to_in, st_tok, e_tok, pd_tok)\n",
        "        self.li, self.device = nn.Linear(d_m, sp_voc_s), torch.device('cuda') if torch.cuda.is_available() else torch.device('cpu')\n",
        "\n",
        "    def forward(self,x1,y1,enc_sam=None,dec_sam=None,dec_cam=None,enc_st_tok=False,enc_e_tok=False,dec_st_tok=False, dec_e_tok=False):\n",
        "        x1 = self.enc(x1, enc_sam, st_tok=enc_st_tok, e_tok=enc_e_tok)\n",
        "        o = self.dec(x1, y1, dec_sam, dec_cam, st_tok=dec_st_tok, e_tok=dec_e_tok)\n",
        "        o = self.li(o)\n",
        "        return o\n"
      ],
      "metadata": {
        "id": "tXGP71DUpW8L"
      },
      "execution_count": null,
      "outputs": []
    },
    {
      "cell_type": "code",
      "source": [
        "#Defining parameters for neural networks\n",
        "import torch\n",
        "d_m = 512\n",
        "dp = 0.1\n",
        "ffn_h = 2048\n",
        "m_seq_l = 200\n",
        "sp_voc_s = len(sp_voc)\n",
        "n_h = 8\n",
        "b_size = 30\n",
        "n_l = 1\n",
        "neuralnet = NeuralNet(d_m,ffn_h,n_h,dp,n_l,m_seq_l,sp_voc_s,en_to_in,sp_to_in,st_tok,e_tok,pd_tok)"
      ],
      "metadata": {
        "id": "xqOFnclmyxAE"
      },
      "execution_count": null,
      "outputs": []
    },
    {
      "cell_type": "code",
      "source": [
        "#helping load the dataset from dataframe\n",
        "from torch.utils.data import Dataset, DataLoader\n",
        "\n",
        "class TextDataset(Dataset):\n",
        "    def __len__(self):\n",
        "        return len(self.en_sent)\n",
        "    def __getitem__(self, idx):\n",
        "        return self.en_sent[idx], self.sp_sent[idx]\n",
        "    def __init__(self, en_sent, sp_sent):\n",
        "        self.en_sent = en_sent\n",
        "        self.sp_sent = sp_sent"
      ],
      "metadata": {
        "id": "asUJX-STy7fg"
      },
      "execution_count": null,
      "outputs": []
    },
    {
      "cell_type": "code",
      "source": [
        "en_sent = [row['english'] for row in train_df.select('english').collect()]\n",
        "sp_sent = [row['spanish'] for row in train_df.select('spanish').collect()]"
      ],
      "metadata": {
        "id": "sgmetEL78fOS"
      },
      "execution_count": null,
      "outputs": []
    },
    {
      "cell_type": "code",
      "source": [
        "len(en_sent)"
      ],
      "metadata": {
        "colab": {
          "base_uri": "https://localhost:8080/"
        },
        "id": "lIcXUIiH9JSk",
        "outputId": "15191ebd-7104-4e50-f6ef-791eee26d474"
      },
      "execution_count": null,
      "outputs": [
        {
          "output_type": "execute_result",
          "data": {
            "text/plain": [
              "96445"
            ]
          },
          "metadata": {},
          "execution_count": 34
        }
      ]
    },
    {
      "cell_type": "code",
      "source": [
        "data = TextDataset(en_sent, sp_sent)\n",
        "train_data = DataLoader(data, b_size)"
      ],
      "metadata": {
        "id": "-auNWjkdzDge"
      },
      "execution_count": null,
      "outputs": []
    },
    {
      "cell_type": "code",
      "source": [
        "#defining loss and optimization criteria for network\n",
        "from torch import nn\n",
        "\n",
        "criterian = nn.CrossEntropyLoss(ignore_index=sp_to_in[pd_tok],reduction='none')\n",
        "\n",
        "for p in neuralnet.parameters():\n",
        "    if p.dim() > 1:nn.init.xavier_uniform_(p)\n",
        "device = get_device()\n",
        "optimizer1 = torch.optim.Adam(neuralnet.parameters(), lr=1e-4)\n"
      ],
      "metadata": {
        "id": "XnanjzqtzQi8"
      },
      "execution_count": null,
      "outputs": []
    },
    {
      "cell_type": "code",
      "source": [
        "#generating the mask values for encoder and decoder of neural network\n",
        "least_value = -1e8\n",
        "\n",
        "def generate_mask_values(eng_b, sp_b):\n",
        "    sent_count = len(eng_b)\n",
        "    la_m = torch.full([m_seq_l, m_seq_l] , True)\n",
        "    la_m = torch.triu(la_m, diagonal=1)\n",
        "    e_pad_m = torch.full([sent_count, m_seq_l, m_seq_l] , False)\n",
        "    d_pad_m_sa = torch.full([sent_count, m_seq_l, m_seq_l] , False)\n",
        "    d_pad_m_ca = torch.full([sent_count, m_seq_l, m_seq_l] , False)\n",
        "\n",
        "    for i in range(sent_count):\n",
        "      en_sen_l, sp_sen_l = len(eng_b[i]), len(sp_b[i])\n",
        "      en_ct_pad_m = np.arange(en_sen_l + 1, m_seq_l)\n",
        "      sp_ct_pad_m = np.arange(sp_sen_l + 1, m_seq_l)\n",
        "      e_pad_m[i, :, en_ct_pad_m] = True\n",
        "      e_pad_m[i, en_ct_pad_m, :] = True\n",
        "      d_pad_m_sa[i, :, sp_ct_pad_m] = True\n",
        "      d_pad_m_sa[i, sp_ct_pad_m, :] = True\n",
        "      d_pad_m_ca[i, :, en_ct_pad_m] = True\n",
        "      d_pad_m_ca[i, sp_ct_pad_m, :] = True\n",
        "\n",
        "    enc_sam = torch.where(e_pad_m, least_value, 0)\n",
        "    dec_sam =  torch.where(la_m + d_pad_m_sa, least_value, 0)\n",
        "    dec_cam = torch.where(d_pad_m_ca, least_value, 0)\n",
        "    return enc_sam, dec_sam, dec_cam"
      ],
      "metadata": {
        "id": "_saWU5QmVem2"
      },
      "execution_count": null,
      "outputs": []
    },
    {
      "cell_type": "code",
      "source": [
        "#Training the neural network based on epoch_ct parameter\n",
        "neuralnet.train()\n",
        "neuralnet.to(device)\n",
        "total_loss = 0\n",
        "epoch_ct = 5 #Specifies the no of epochs\n",
        "train_losses=[]\n",
        "for epoch in range(epoch_ct):\n",
        "    print(f\"Epoch number {epoch}\")\n",
        "    it_obj = iter(train_data)\n",
        "    for bnum, bdata in enumerate(it_obj):\n",
        "        neuralnet.train()\n",
        "        eng_b, sp_b = bdata\n",
        "        enc_sam, dec_sam, dec_cam = generate_mask_values(eng_b, sp_b)\n",
        "        optimizer1.zero_grad()\n",
        "        pred_sp = neuralnet(eng_b,sp_b,enc_sam.to(device),dec_sam.to(device),dec_cam.to(device),enc_st_tok=False,enc_e_tok=False,dec_st_tok=True,dec_e_tok=True)\n",
        "        label_data = neuralnet.dec.se_em.bat_toks(sp_b, st_tok=False, e_tok=True)\n",
        "        data_loss = criterian(pred_sp.view(-1, sp_voc_s).to(device),label_data.view(-1).to(device)).to(device)\n",
        "        indx_val = torch.where(label_data.view(-1) == sp_to_in[pd_tok], False, True)\n",
        "        data_loss = data_loss.sum() / indx_val.sum()\n",
        "        data_loss.backward()\n",
        "        optimizer1.step()\n",
        "        train_losses.append(data_loss.item())\n",
        "        if bnum % 100 == 0:\n",
        "            print(f\"Iter number {bnum} : {data_loss.item()}\")\n",
        "            print(f\"source clause: {eng_b[0]}\")\n",
        "            print(f\"actual target clause: {sp_b[0]}\")\n",
        "            sp_pred_sen = torch.argmax(pred_sp[0], axis=1)\n",
        "            sen_pred = \"\"\n",
        "            for idx in sp_pred_sen:\n",
        "              if idx == sp_to_in[e_tok]:\n",
        "                break\n",
        "              else:\n",
        "                sen_pred += in_to_sp[idx.item()]\n",
        "            print(f\"predicted target clause: {sen_pred}\")\n",
        "            neuralnet.eval()\n",
        "            print(\"-------------------------------------------\")"
      ],
      "metadata": {
        "colab": {
          "base_uri": "https://localhost:8080/"
        },
        "id": "e2GUyQPfU3oQ",
        "outputId": "74c6948e-c504-49a4-d22e-640af2eb198a"
      },
      "execution_count": null,
      "outputs": [
        {
          "output_type": "stream",
          "name": "stdout",
          "text": [
            "Epoch number 0\n",
            "Iter number 0 : 3.898242235183716\n",
            "source clause: a baby has delicate skin\n",
            "actual target clause: un bebe tiene la piel sensible\n",
            "predicted target clause: wwn<pad>i<pad>f<pad><pad>rrrvnrn<pad>rbwnv<pad>n<pad>s<pad><pad>v<pad><pad><pad><pad><pad>vv<pad>aa<pad><pad><pad><pad>avvaiiaaai<pad>aaaaaaa<pad>iaaa<pad><pad><pad><pad><pad>iia<pad>aq<pad><pad><pad><pad><pad><pad>rarrv<pad>avawvwa<pad><pad>wwtv<pad>v<pad>v<pad>w<pad>wn<pad>w<pad>ivwawvvawi<pad>wwww<pad><pad>bawni<pad><pad>nvnnnwwnaaaavniiiin\n",
            "-------------------------------------------\n",
            "Iter number 100 : 2.746222734451294\n",
            "source clause: do you have more than one copy of this key\n",
            "actual target clause: acaso tienes mas de una copia de esta llave\n",
            "predicted target clause: eeene  e e a ne  e eenae aneeeeennnenneee\n",
            "-------------------------------------------\n",
            "Iter number 200 : 2.726428270339966\n",
            "source clause: he didnt like to be punished\n",
            "actual target clause: a el no le gustaba que le castigaran\n",
            "predicted target clause: e e  e   e e e       eea eeo  \n",
            "-------------------------------------------\n",
            "Iter number 300 : 2.41862416267395\n",
            "source clause: how do i turn this off\n",
            "actual target clause: como apago esto\n",
            "predicted target clause: so o m o o en o      e  m    nee ee   me   oeo o oooeaoaa i\n",
            "-------------------------------------------\n",
            "Iter number 400 : 2.1429455280303955\n",
            "source clause: i dont want tom giving mary advice\n",
            "actual target clause: no quiero que tom le de consejos a mary\n",
            "predicted target clause: no qeeo o qoerqoroqorqoreo\n",
            "-------------------------------------------\n",
            "Iter number 500 : 2.4037461280822754\n",
            "source clause: i only need a minute\n",
            "actual target clause: no necesito mas que un minuto\n",
            "predicted target clause: me pe i t o cen ao seeane\n",
            "-------------------------------------------\n",
            "Iter number 600 : 2.4306247234344482\n",
            "source clause: i wrote that\n",
            "actual target clause: yo escribi eso\n",
            "predicted target clause: mo estoaaaapro\n",
            "-------------------------------------------\n",
            "Iter number 700 : 2.352837085723877\n",
            "source clause: it is difficult to walk kilometers a day\n",
            "actual target clause: es dificil caminar kilometros en un dia\n",
            "predicted target clause: es eeee o  po ee   eaea e ea  ps tn does                        \n",
            "-------------------------------------------\n",
            "Iter number 800 : 2.3686437606811523\n",
            "source clause: marys new hairstyle made her stand out in the crowd\n",
            "actual target clause: el nuevo peinado de mary la hace destacar entre la multitud\n",
            "predicted target clause: es mor a ea    o ce car  ea ea a ear a a  d  oa d  coeaoraea        e           n ee             i  a rrr  nanr    rrrrnr sr    nannnnne nnnnennnnnnnennnnnnnr nnn n  nnn  eleennnnn    nn n      neenee\n",
            "-------------------------------------------\n",
            "Iter number 900 : 2.1914749145507812\n",
            "source clause: she had to take care of her sister\n",
            "actual target clause: ella tenia que cuidar de su hermana\n",
            "predicted target clause: elaa eo a  eue eon o aeo daeea aa a\n",
            "-------------------------------------------\n",
            "Iter number 1000 : 2.2178280353546143\n",
            "source clause: the box is heavy\n",
            "actual target clause: la caja es pesada\n",
            "predicted target clause: ea ea a el east\n",
            "-------------------------------------------\n",
            "Iter number 1100 : 2.327563524246216\n",
            "source clause: they built a fence around the farm\n",
            "actual target clause: levantaron una valla alrededor de la granja\n",
            "predicted target clause: eosos osostseoseoso sesoesososeceseoseeestose aeoeooeeeao\n",
            "-------------------------------------------\n",
            "Iter number 1200 : 2.0650699138641357\n",
            "source clause: tom didnt expect to hear marys voice\n",
            "actual target clause: tom no esperaba oir la voz de mary\n",
            "predicted target clause: tom e  tn i   i d  ase di  ni ci  \n",
            "-------------------------------------------\n",
            "Iter number 1300 : 1.9774943590164185\n",
            "source clause: tom opened the door to his office\n",
            "actual target clause: tom abrio la puerta de su oficina\n",
            "predicted target clause: tom eseea aa aae  e ae cuna eaee  n        aa  aa             \n",
            "-------------------------------------------\n",
            "Iter number 1400 : 2.236943006515503\n",
            "source clause: we live in a very safe country\n",
            "actual target clause: vivimos en un pais muy seguro\n",
            "predicted target clause: teneees esotnoeenn tee toseea\n",
            "-------------------------------------------\n",
            "Iter number 1500 : 1.85845148563385\n",
            "source clause: who is going to put and end to this strike\n",
            "actual target clause: quien pondra fin a esta huelga\n",
            "predicted target clause: duaen ea  ee eus eselia eae  a                            \n",
            "-------------------------------------------\n",
            "Iter number 1600 : 2.1068356037139893\n",
            "source clause: youre really beautiful\n",
            "actual target clause: eres realmente hermoso\n",
            "predicted target clause: eses eess este eon\n",
            "-------------------------------------------\n",
            "Iter number 1700 : 2.213632345199585\n",
            "source clause: do what he tells you\n",
            "actual target clause: hazlo como te dice\n",
            "predicted target clause: pe  a easa aesaenos a  a a a aaaaa a  aa aaa  aa aaaa a a aa       aaa a a \n",
            "-------------------------------------------\n",
            "Iter number 1800 : 2.159390449523926\n",
            "source clause: he can do it well and you can do it even better\n",
            "actual target clause: el puede hacerlo bien y tu lo puedes hacer incluso mejor\n",
            "predicted target clause: el eee o ee e  o lue  e eoeee eee o  ae e aan eee\n",
            "-------------------------------------------\n",
            "Iter number 1900 : 2.328070878982544\n",
            "source clause: hi come on in\n",
            "actual target clause: hola pasa adelante\n",
            "predicted target clause: eo   eare e o\n",
            "-------------------------------------------\n",
            "Iter number 2000 : 1.971234679222107\n",
            "source clause: i dont like being controlled\n",
            "actual target clause: no me gusta ser controlada\n",
            "predicted target clause: no ne tueie ee  no toa\n",
            "-------------------------------------------\n",
            "Iter number 2100 : 2.1304898262023926\n",
            "source clause: i missed the train by two minutes\n",
            "actual target clause: se me paso el tren por dos minutos\n",
            "predicted target clause: ee ee eare en eeeraeereee  eeeoae\n",
            "-------------------------------------------\n",
            "Iter number 2200 : 2.106062650680542\n",
            "source clause: i will always remember you\n",
            "actual target clause: siempre me acordare de ti\n",
            "predicted target clause: ei  ooo aa a an o   ae eaa                                          \n",
            "-------------------------------------------\n",
            "Iter number 2300 : 2.0821709632873535\n",
            "source clause: is it a wolf\n",
            "actual target clause: es un lobo\n",
            "predicted target clause: estenteamen aa   a  a   aa   a a a                        \n",
            "-------------------------------------------\n",
            "Iter number 2400 : 2.0797746181488037\n",
            "source clause: lets see if we can get this door open\n",
            "actual target clause: veamos si podemos abrir esta puerta\n",
            "predicted target clause: temmos mommomo  s amaao astasdoer a\n",
            "-------------------------------------------\n",
            "Iter number 2500 : 2.2448484897613525\n",
            "source clause: shall we dance\n",
            "actual target clause: quiere bailar\n",
            "predicted target clause: euie e eande\n",
            "-------------------------------------------\n",
            "Iter number 2600 : 1.979665994644165\n",
            "source clause: thats amazing\n",
            "actual target clause: increible\n",
            "predicted target clause: eeoaa eio     a a       a a                 aa    \n",
            "-------------------------------------------\n",
            "Iter number 2700 : 1.989216685295105\n",
            "source clause: there is something about him i dont like\n",
            "actual target clause: hay algo acerca de el que no me agrada\n",
            "predicted target clause: eay hy ush hn hshe hn eue ma manm uaso\n",
            "-------------------------------------------\n",
            "Iter number 2800 : 1.905648946762085\n",
            "source clause: tom bought his truck used\n",
            "actual target clause: tom compro su camion usado\n",
            "predicted target clause: tom tomiae te toraa  tn  o\n",
            "-------------------------------------------\n",
            "Iter number 2900 : 1.666707158088684\n",
            "source clause: tom knows mary wont tell john\n",
            "actual target clause: tom sabe que mary no se lo contara a john\n",
            "predicted target clause: tom eo a eue ea   eo pu ea pom a\n",
            "-------------------------------------------\n",
            "Iter number 3000 : 2.0566818714141846\n",
            "source clause: we could not bear to listen to the sick childs pathetic cries\n",
            "actual target clause: no pudimos soportar escuchar el patetico llanto del nino enfermo\n",
            "predicted target clause: eossoeeaos eesoraos pstoeoos es dorosoaosdaas osde  eonosdsousais                 \n",
            "-------------------------------------------\n",
            "Iter number 3100 : 1.7395755052566528\n",
            "source clause: where is your jacket\n",
            "actual target clause: donde esta tu campera\n",
            "predicted target clause: conde estaneoeeosear\n",
            "-------------------------------------------\n",
            "Iter number 3200 : 2.1517817974090576\n",
            "source clause: youre a good father\n",
            "actual target clause: sos un buen padre\n",
            "predicted target clause: to  es eus ttrraa                                                                                 \n",
            "-------------------------------------------\n",
            "Epoch number 1\n",
            "Iter number 0 : 2.227290153503418\n",
            "source clause: a baby has delicate skin\n",
            "actual target clause: un bebe tiene la piel sensible\n",
            "predicted target clause: enoeereseaes seo eres eon tsri\n",
            "-------------------------------------------\n",
            "Iter number 100 : 1.7867799997329712\n",
            "source clause: do you have more than one copy of this key\n",
            "actual target clause: acaso tienes mas de una copia de esta llave\n",
            "predicted target clause: t ad sdeen s aen ae tn  donaenee as e\n",
            "-------------------------------------------\n",
            "Iter number 200 : 1.9662097692489624\n",
            "source clause: he didnt like to be punished\n",
            "actual target clause: a el no le gustaba que le castigaran\n",
            "predicted target clause: e pl eo ea eunte e eue ea eoriodo\n",
            "-------------------------------------------\n",
            "Iter number 300 : 1.8339312076568604\n",
            "source clause: how do i turn this off\n",
            "actual target clause: como apago esto\n",
            "predicted target clause: somo s ara msta                                                   \n",
            "-------------------------------------------\n",
            "Iter number 400 : 1.5499173402786255\n",
            "source clause: i dont want tom giving mary advice\n",
            "actual target clause: no quiero que tom le de consejos a mary\n",
            "predicted target clause: no quiero qui qimpqa ee eom\n",
            "-------------------------------------------\n",
            "Iter number 500 : 2.063854217529297\n",
            "source clause: i only need a minute\n",
            "actual target clause: no necesito mas que un minuto\n",
            "predicted target clause: ne peco i o ten pue en tantto\n",
            "-------------------------------------------\n",
            "Iter number 600 : 2.0634143352508545\n",
            "source clause: i wrote that\n",
            "actual target clause: yo escribi eso\n",
            "predicted target clause: mo estooaoaest\n",
            "-------------------------------------------\n",
            "Iter number 700 : 2.0936484336853027\n",
            "source clause: it is difficult to walk kilometers a day\n",
            "actual target clause: es dificil caminar kilometros en un dia\n",
            "predicted target clause: es ee ieioeeonaat  een   na   ts tn ee \n",
            "-------------------------------------------\n",
            "Iter number 800 : 2.051743984222412\n",
            "source clause: marys new hairstyle made her stand out in the crowd\n",
            "actual target clause: el nuevo peinado de mary la hace destacar entre la multitud\n",
            "predicted target clause: es poa i pardt o pe dar  pa earinee  a in en earda canaadaee                              a                \n",
            "-------------------------------------------\n",
            "Iter number 900 : 1.8458311557769775\n",
            "source clause: she had to take care of her sister\n",
            "actual target clause: ella tenia que cuidar de su hermana\n",
            "predicted target clause: ella eo to eue eoeeo  ee ee ea  a\n",
            "-------------------------------------------\n",
            "Iter number 1000 : 1.9854952096939087\n",
            "source clause: the box is heavy\n",
            "actual target clause: la caja es pesada\n",
            "predicted target clause: ea eano es eero\n",
            "-------------------------------------------\n",
            "Iter number 1100 : 2.0584166049957275\n",
            "source clause: they built a fence around the farm\n",
            "actual target clause: levantaron una valla alrededor de la granja\n",
            "predicted target clause: easos asas en  eos ose  anesos\n",
            "-------------------------------------------\n",
            "Iter number 1200 : 1.7285057306289673\n",
            "source clause: tom didnt expect to hear marys voice\n",
            "actual target clause: tom no esperaba oir la voz de mary\n",
            "predicted target clause: tom po psto   irp nypa deraae dary\n",
            "-------------------------------------------\n",
            "Iter number 1300 : 1.745694875717163\n",
            "source clause: tom opened the door to his office\n",
            "actual target clause: tom abrio la puerta de su oficina\n",
            "predicted target clause: tom n eea me leerde le le d aeeat\n",
            "-------------------------------------------\n",
            "Iter number 1400 : 1.9176677465438843\n",
            "source clause: we live in a very safe country\n",
            "actual target clause: vivimos en un pais muy seguro\n",
            "predicted target clause: eeneaos es en aern ea  te aea\n",
            "-------------------------------------------\n",
            "Iter number 1500 : 1.6406768560409546\n",
            "source clause: who is going to put and end to this strike\n",
            "actual target clause: quien pondra fin a esta huelga\n",
            "predicted target clause: dueen errtee eae e este ea r a                                                                                             a                                  \n",
            "-------------------------------------------\n",
            "Iter number 1600 : 1.8314982652664185\n",
            "source clause: youre really beautiful\n",
            "actual target clause: eres realmente hermoso\n",
            "predicted target clause: tses eessoente easde\n",
            "-------------------------------------------\n",
            "Iter number 1700 : 1.9732022285461426\n",
            "source clause: do what he tells you\n",
            "actual target clause: hazlo como te dice\n",
            "predicted target clause: ees i tomi lo te i\n",
            "-------------------------------------------\n",
            "Iter number 1800 : 1.9673818349838257\n",
            "source clause: he can do it well and you can do it even better\n",
            "actual target clause: el puede hacerlo bien y tu lo puedes hacer incluso mejor\n",
            "predicted target clause: el lrero easiraa aaentp ao da eoero  aasir an ioa\n",
            "-------------------------------------------\n",
            "Iter number 1900 : 2.129767417907715\n",
            "source clause: hi come on in\n",
            "actual target clause: hola pasa adelante\n",
            "predicted target clause: eam  earo e i o\n",
            "-------------------------------------------\n",
            "Iter number 2000 : 1.7061612606048584\n",
            "source clause: i dont like being controlled\n",
            "actual target clause: no me gusta ser controlada\n",
            "predicted target clause: no ne sunte ee  eon eo\n",
            "-------------------------------------------\n",
            "Iter number 2100 : 1.9420626163482666\n",
            "source clause: i missed the train by two minutes\n",
            "actual target clause: se me paso el tren por dos minutos\n",
            "predicted target clause: me me eurt en eee tear eem mietca\n",
            "-------------------------------------------\n",
            "Iter number 2200 : 1.9551258087158203\n",
            "source clause: i will always remember you\n",
            "actual target clause: siempre me acordare de ti\n",
            "predicted target clause: qe  poo aa a on o   ae eo     i                                                  ee       e     a  a   a      a eee  \n",
            "-------------------------------------------\n",
            "Iter number 2300 : 1.9761478900909424\n",
            "source clause: is it a wolf\n",
            "actual target clause: es un lobo\n",
            "predicted target clause: esten eo lr        \n",
            "-------------------------------------------\n",
            "Iter number 2400 : 1.7884968519210815\n",
            "source clause: lets see if we can get this door open\n",
            "actual target clause: veamos si podemos abrir esta puerta\n",
            "predicted target clause: eajsos aeedarasos e aeo mstammaemae\n",
            "-------------------------------------------\n",
            "Iter number 2500 : 2.03924560546875\n",
            "source clause: shall we dance\n",
            "actual target clause: quiere bailar\n",
            "predicted target clause: puien  pavsl    e e              e                                                                    e  e        e        e   ee  e  e  i        \n",
            "-------------------------------------------\n",
            "Iter number 2600 : 1.8262394666671753\n",
            "source clause: thats amazing\n",
            "actual target clause: increible\n",
            "predicted target clause: eeaia aee eaaaaaaaaaa aaa aaaaaaaaa aaa aaa aaaaaaaaaaee  a  a eaa  a  aaa a aa a a e a aaaa a aaaaea aaaaa   a  a  aa  aaaaa aaeaaaaaaeaaa aaaaaa  aa    aaaaa   aaa  e  a aeeee aaeaaaaaaaaaa \n",
            "-------------------------------------------\n",
            "Iter number 2700 : 1.8102079629898071\n",
            "source clause: there is something about him i dont like\n",
            "actual target clause: hay algo acerca de el que no me agrada\n",
            "predicted target clause: eay h ga h hrah he en eue eo da e aa\n",
            "-------------------------------------------\n",
            "Iter number 2800 : 1.7436455488204956\n",
            "source clause: tom bought his truck used\n",
            "actual target clause: tom compro su camion usado\n",
            "predicted target clause: tom tomiaa teytorian tntro\n",
            "-------------------------------------------\n",
            "Iter number 2900 : 1.484643578529358\n",
            "source clause: tom knows mary wont tell john\n",
            "actual target clause: tom sabe que mary no se lo contara a john\n",
            "predicted target clause: tom ee a eue ear  eo eu ma pon e \n",
            "-------------------------------------------\n",
            "Iter number 3000 : 1.8726749420166016\n",
            "source clause: we could not bear to listen to the sick childs pathetic cries\n",
            "actual target clause: no pudimos soportar escuchar el patetico llanto del nino enfermo\n",
            "predicted target clause: eoseoeeaos eesor o  entolao  ds eoraserisdaasoasee  eon sds osaos      a                     d        a e      oe\n",
            "-------------------------------------------\n",
            "Iter number 3100 : 1.4694793224334717\n",
            "source clause: where is your jacket\n",
            "actual target clause: donde esta tu campera\n",
            "predicted target clause: conde esta eo eonaara\n",
            "-------------------------------------------\n",
            "Iter number 3200 : 1.9650830030441284\n",
            "source clause: youre a good father\n",
            "actual target clause: sos un buen padre\n",
            "predicted target clause: ton es eue tearao\n",
            "-------------------------------------------\n",
            "Epoch number 2\n",
            "Iter number 0 : 2.130178451538086\n",
            "source clause: a baby has delicate skin\n",
            "actual target clause: un bebe tiene la piel sensible\n",
            "predicted target clause: enoeerereeentsea ererieoseodee\n",
            "-------------------------------------------\n",
            "Iter number 100 : 1.567083716392517\n",
            "source clause: do you have more than one copy of this key\n",
            "actual target clause: acaso tienes mas de una copia de esta llave\n",
            "predicted target clause: t esi deen s ees ee dn  eonaeree dste daa e\n",
            "-------------------------------------------\n",
            "Iter number 200 : 1.8390804529190063\n",
            "source clause: he didnt like to be punished\n",
            "actual target clause: a el no le gustaba que le castigaran\n",
            "predicted target clause: elel eo ea eunta r eue ea lolaeoo\n",
            "-------------------------------------------\n",
            "Iter number 300 : 1.7214456796646118\n",
            "source clause: how do i turn this off\n",
            "actual target clause: como apago esto\n",
            "predicted target clause: eomo e ara msta                a                                                                                 \n",
            "-------------------------------------------\n",
            "Iter number 400 : 1.4124397039413452\n",
            "source clause: i dont want tom giving mary advice\n",
            "actual target clause: no quiero que tom le de consejos a mary\n",
            "predicted target clause: no quiero qui qem eacee nontaro\n",
            "-------------------------------------------\n",
            "Iter number 500 : 1.8501235246658325\n",
            "source clause: i only need a minute\n",
            "actual target clause: no necesito mas que un minuto\n",
            "predicted target clause: me mecesito ees eue en ee tto\n",
            "-------------------------------------------\n",
            "Iter number 600 : 1.942163109779358\n",
            "source clause: i wrote that\n",
            "actual target clause: yo escribi eso\n",
            "predicted target clause: mo mstoeoaaest\n",
            "-------------------------------------------\n",
            "Iter number 700 : 1.9741253852844238\n",
            "source clause: it is difficult to walk kilometers a day\n",
            "actual target clause: es dificil caminar kilometros en un dia\n",
            "predicted target clause: es eeeeeio aosptt  eaeg  rae  es en eee                                                                         eee\n",
            "-------------------------------------------\n",
            "Iter number 800 : 1.8994860649108887\n",
            "source clause: marys new hairstyle made her stand out in the crowd\n",
            "actual target clause: el nuevo peinado de mary la hace destacar entre la multitud\n",
            "predicted target clause: es eon i eardt o de ear  ea dacirde  a i  dn aa ea eay adara                 o oo                  o    o      oooo\n",
            "-------------------------------------------\n",
            "Iter number 900 : 1.707575798034668\n",
            "source clause: she had to take care of her sister\n",
            "actual target clause: ella tenia que cuidar de su hermana\n",
            "predicted target clause: ella ea ga eue eoero  ee eu ea  o\n",
            "-------------------------------------------\n",
            "Iter number 1000 : 1.8929554224014282\n",
            "source clause: the box is heavy\n",
            "actual target clause: la caja es pesada\n",
            "predicted target clause: ea eoso es eoro\n",
            "-------------------------------------------\n",
            "Iter number 1100 : 1.9639637470245361\n",
            "source clause: they built a fence around the farm\n",
            "actual target clause: levantaron una valla alrededor de la granja\n",
            "predicted target clause: ea a  es s en  eesie elgasososaee ea eaanao\n",
            "-------------------------------------------\n",
            "Iter number 1200 : 1.5549930334091187\n",
            "source clause: tom didnt expect to hear marys voice\n",
            "actual target clause: tom no esperaba oir la voz de mary\n",
            "predicted target clause: tom po ps or  a d ndaa cerade dary\n",
            "-------------------------------------------\n",
            "Iter number 1300 : 1.6274477243423462\n",
            "source clause: tom opened the door to his office\n",
            "actual target clause: tom abrio la puerta de su oficina\n",
            "predicted target clause: tom s eea le ceedaa ce du c uceoa\n",
            "-------------------------------------------\n",
            "Iter number 1400 : 1.8177307844161987\n",
            "source clause: we live in a very safe country\n",
            "actual target clause: vivimos en un pais muy seguro\n",
            "predicted target clause: ninoaos pneenaaerdtaay dunona   aii a    ai i  aa     aa                                oo     a        aa     oooo\n",
            "-------------------------------------------\n",
            "Iter number 1500 : 1.4725755453109741\n",
            "source clause: who is going to put and end to this strike\n",
            "actual target clause: quien pondra fin a esta huelga\n",
            "predicted target clause: euieneerrsee eaeee esta easr o i aiaa       a   a                 a  a aa  aa         a a a     a a aaaaa    aaa aaaaaaa aaa\n",
            "-------------------------------------------\n",
            "Iter number 1600 : 1.6488800048828125\n",
            "source clause: youre really beautiful\n",
            "actual target clause: eres realmente hermoso\n",
            "predicted target clause: eses eessiente earme\n",
            "-------------------------------------------\n",
            "Iter number 1700 : 1.8025449514389038\n",
            "source clause: do what he tells you\n",
            "actual target clause: hazlo como te dice\n",
            "predicted target clause: ta ae lonp ao aesiraaa  eiiaee iaa aa     aa       a    ao      a      o                        a        a     eeee              e  e   eae     \n",
            "-------------------------------------------\n",
            "Iter number 1800 : 1.8053680658340454\n",
            "source clause: he can do it well and you can do it even better\n",
            "actual target clause: el puede hacerlo bien y tu lo puedes hacer incluso mejor\n",
            "predicted target clause: hl huede hash  e eoente ee ea euedo  aasir antoeot\n",
            "-------------------------------------------\n",
            "Iter number 1900 : 1.9921789169311523\n",
            "source clause: hi come on in\n",
            "actual target clause: hola pasa adelante\n",
            "predicted target clause: eamo eoro e o o\n",
            "-------------------------------------------\n",
            "Iter number 2000 : 1.5519213676452637\n",
            "source clause: i dont like being controlled\n",
            "actual target clause: no me gusta ser controlada\n",
            "predicted target clause: no ne nusta ne meongea\n",
            "-------------------------------------------\n",
            "Iter number 2100 : 1.7754817008972168\n",
            "source clause: i missed the train by two minutes\n",
            "actual target clause: se me paso el tren por dos minutos\n",
            "predicted target clause: me ge erra mn eea tear eel eistta\n",
            "-------------------------------------------\n",
            "Iter number 2200 : 1.8445558547973633\n",
            "source clause: i will always remember you\n",
            "actual target clause: siempre me acordare de ti\n",
            "predicted target clause: ee npra ea e en or  ae eoea   i aaaa           aa      aa              aa       e      o a      aaeea aa a  a aaoaaaaaaea a  \n",
            "-------------------------------------------\n",
            "Iter number 2300 : 1.8682374954223633\n",
            "source clause: is it a wolf\n",
            "actual target clause: es un lobo\n",
            "predicted target clause: esten ao ir   i  a  a            aa   \n",
            "-------------------------------------------\n",
            "Iter number 2400 : 1.6565189361572266\n",
            "source clause: lets see if we can get this door open\n",
            "actual target clause: veamos si podemos abrir esta puerta\n",
            "predicted target clause: eejmos eieaaremos d eaa antamaaeraa\n",
            "-------------------------------------------\n",
            "Iter number 2500 : 1.9459861516952515\n",
            "source clause: shall we dance\n",
            "actual target clause: quiere bailar\n",
            "predicted target clause: puiere pavd\n",
            "-------------------------------------------\n",
            "Iter number 2600 : 1.735161542892456\n",
            "source clause: thats amazing\n",
            "actual target clause: increible\n",
            "predicted target clause: engae aae aaaaaae aa aa   aeeaa aaeaaaaaaaaaaaaaaaaaaaaaa aaaaaaaaaaaaae ee e aeaaaaaaae a  aaaaaaeaaaaaaaaaaaa aeaeaaae  aaaaoaaaaaa a   o  aa a  a aaa aaaaa  a aaa aea  aa   a eaa  aaaaaaaa aa  a ae\n",
            "-------------------------------------------\n",
            "Iter number 2700 : 1.6663239002227783\n",
            "source clause: there is something about him i dont like\n",
            "actual target clause: hay algo acerca de el que no me agrada\n",
            "predicted target clause: lay hlga e hr i ee en due mo ea d ua\n",
            "-------------------------------------------\n",
            "Iter number 2800 : 1.6805105209350586\n",
            "source clause: tom bought his truck used\n",
            "actual target clause: tom compro su camion usado\n",
            "predicted target clause: tom yompre te torin  tntna\n",
            "-------------------------------------------\n",
            "Iter number 2900 : 1.297493577003479\n",
            "source clause: tom knows mary wont tell john\n",
            "actual target clause: tom sabe que mary no se lo contara a john\n",
            "predicted target clause: tom eele eue eary mo eu ma eon a\n",
            "-------------------------------------------\n",
            "Iter number 3000 : 1.7476110458374023\n",
            "source clause: we could not bear to listen to the sick childs pathetic cries\n",
            "actual target clause: no pudimos soportar escuchar el patetico llanto del nino enfermo\n",
            "predicted target clause: eo eoeeoos eoler ad estoeho  en eoraramiseaa ae de  eontsen ereos             oa e     e             \n",
            "-------------------------------------------\n",
            "Iter number 3100 : 1.3730474710464478\n",
            "source clause: where is your jacket\n",
            "actual target clause: donde esta tu campera\n",
            "predicted target clause: conde esta eo easioradaaa  ea   iaaaaaaa aa aaaaaa a a aaa a   aaa      o  a     aea eai a a        a o   e a\n",
            "-------------------------------------------\n",
            "Iter number 3200 : 1.8329594135284424\n",
            "source clause: youre a good father\n",
            "actual target clause: sos un buen padre\n",
            "predicted target clause: teb es eeedteorras                 a                   a                        o      aa o         o  a  \n",
            "-------------------------------------------\n",
            "Epoch number 3\n",
            "Iter number 0 : 2.021336078643799\n",
            "source clause: a baby has delicate skin\n",
            "actual target clause: un bebe tiene la piel sensible\n",
            "predicted target clause: en eurereaentsea eaenleor ocle\n",
            "-------------------------------------------\n",
            "Iter number 100 : 1.4244041442871094\n",
            "source clause: do you have more than one copy of this key\n",
            "actual target clause: acaso tienes mas de una copia de esta llave\n",
            "predicted target clause: e esi qeen s des de dn  dones de dlta aaa\n",
            "-------------------------------------------\n",
            "Iter number 200 : 1.7595657110214233\n",
            "source clause: he didnt like to be punished\n",
            "actual target clause: a el no le gustaba que le castigaran\n",
            "predicted target clause: elhl eo aa austa a eue eaveomaocu\n",
            "-------------------------------------------\n",
            "Iter number 300 : 1.5627162456512451\n",
            "source clause: how do i turn this off\n",
            "actual target clause: como apago esto\n",
            "predicted target clause: eomo e aro esta eaaaooaaa a a   aeaaa aeo aeaae  aaaaaoaa  eeeaoee   oo o    e   a e a aeaea  a  a  e     a \n",
            "-------------------------------------------\n",
            "Iter number 400 : 1.2835650444030762\n",
            "source clause: i dont want tom giving mary advice\n",
            "actual target clause: no quiero que tom le de consejos a mary\n",
            "predicted target clause: no quiero que qom qa ee eomte\n",
            "-------------------------------------------\n",
            "Iter number 500 : 1.6662801504135132\n",
            "source clause: i only need a minute\n",
            "actual target clause: no necesito mas que un minuto\n",
            "predicted target clause: me qecesito ees aue mn ei tno\n",
            "-------------------------------------------\n",
            "Iter number 600 : 1.826712965965271\n",
            "source clause: i wrote that\n",
            "actual target clause: yo escribi eso\n",
            "predicted target clause: yo mstoeoaaast\n",
            "-------------------------------------------\n",
            "Iter number 700 : 1.824422001838684\n",
            "source clause: it is difficult to walk kilometers a day\n",
            "actual target clause: es dificil caminar kilometros en un dia\n",
            "predicted target clause: es eeaicio posiga  eieo   aa  qs en eea\n",
            "-------------------------------------------\n",
            "Iter number 800 : 1.785154938697815\n",
            "source clause: marys new hairstyle made her stand out in the crowd\n",
            "actual target clause: el nuevo peinado de mary la hace destacar entre la multitud\n",
            "predicted target clause: es eonsosearna o ee eary da eaberde  a i  an aa ea eacaadaaa                              o    aa  a   oo       oooaoa aao\n",
            "-------------------------------------------\n",
            "Iter number 900 : 1.6021767854690552\n",
            "source clause: she had to take care of her sister\n",
            "actual target clause: ella tenia que cuidar de su hermana\n",
            "predicted target clause: ella ee td eue loado  ee eu earma\n",
            "-------------------------------------------\n",
            "Iter number 1000 : 1.793896198272705\n",
            "source clause: the box is heavy\n",
            "actual target clause: la caja es pesada\n",
            "predicted target clause: ea eosa es eolo\n",
            "-------------------------------------------\n",
            "Iter number 1100 : 1.858801007270813\n",
            "source clause: they built a fence around the farm\n",
            "actual target clause: levantaron una valla alrededor de la granja\n",
            "predicted target clause: ea i aeson ena eesio e ieseso iee ea cranaoseaaeaaaaaaeai aeeeae eaeee eaeeee eeaeeeaeeeeeeeeeeae\n",
            "-------------------------------------------\n",
            "Iter number 1200 : 1.4200130701065063\n",
            "source clause: tom didnt expect to hear marys voice\n",
            "actual target clause: tom no esperaba oir la voz de mary\n",
            "predicted target clause: tom no cstura a a r aa cil ae cary\n",
            "-------------------------------------------\n",
            "Iter number 1300 : 1.5494574308395386\n",
            "source clause: tom opened the door to his office\n",
            "actual target clause: tom abrio la puerta de su oficina\n",
            "predicted target clause: tom eciea ea maedta de cu cceciaade a    aaia  aaa aeae                       a e e   aae  e ee     eea a   a  aaeaa ae a   a\n",
            "-------------------------------------------\n",
            "Iter number 1400 : 1.6868042945861816\n",
            "source clause: we live in a very safe country\n",
            "actual target clause: vivimos en un pais muy seguro\n",
            "predicted target clause: nivimos dnean cermiauy cemunasa ii i aaaiia aiaiaaaaa  oo ai        oa o a o     oa o  iooaoa    o oooooao ao\n",
            "-------------------------------------------\n",
            "Iter number 1500 : 1.3398168087005615\n",
            "source clause: who is going to put and end to this strike\n",
            "actual target clause: quien pondra fin a esta huelga\n",
            "predicted target clause: duien earsea eueoe esta eabn os  aa a a    aaaaa a a aaa  a aaaaaaa  eeaae ea a     aaaea  aaaaaa\n",
            "-------------------------------------------\n",
            "Iter number 1600 : 1.536069631576538\n",
            "source clause: youre really beautiful\n",
            "actual target clause: eres realmente hermoso\n",
            "predicted target clause: eses eessiente earmis\n",
            "-------------------------------------------\n",
            "Iter number 1700 : 1.6799769401550293\n",
            "source clause: do what he tells you\n",
            "actual target clause: hazlo como te dice\n",
            "predicted target clause: tas o tomp ao aener aoa  aaoaa eaaaaaaa a aaaaaaaaoaooioaa  aaaaaaao eaa         a a aoaee e  aaaaaoeaoooao oaaaaaoa aeaaee aa  aeeeaoa  ao\n",
            "-------------------------------------------\n",
            "Iter number 1800 : 1.6543822288513184\n",
            "source clause: he can do it well and you can do it even better\n",
            "actual target clause: el puede hacerlo bien y tu lo puedes hacer incluso mejor\n",
            "predicted target clause: hl haede dasir o auenta ao ae eaede  aaser antoena\n",
            "-------------------------------------------\n",
            "Iter number 1900 : 1.9151997566223145\n",
            "source clause: hi come on in\n",
            "actual target clause: hola pasa adelante\n",
            "predicted target clause: ea v eara a a o\n",
            "-------------------------------------------\n",
            "Iter number 2000 : 1.4857831001281738\n",
            "source clause: i dont like being controlled\n",
            "actual target clause: no me gusta ser controlada\n",
            "predicted target clause: no ne nusta ne  nontoa\n",
            "-------------------------------------------\n",
            "Iter number 2100 : 1.6971912384033203\n",
            "source clause: i missed the train by two minutes\n",
            "actual target clause: se me paso el tren por dos minutos\n",
            "predicted target clause: me ee mara en eoastear eer eiseta\n",
            "-------------------------------------------\n",
            "Iter number 2200 : 1.7690199613571167\n",
            "source clause: i will always remember you\n",
            "actual target clause: siempre me acordare de ti\n",
            "predicted target clause: eeenpre ee e e ti   ee eo\n",
            "-------------------------------------------\n",
            "Iter number 2300 : 1.814779281616211\n",
            "source clause: is it a wolf\n",
            "actual target clause: es un lobo\n",
            "predicted target clause: esten ea e  \n",
            "-------------------------------------------\n",
            "Iter number 2400 : 1.5879220962524414\n",
            "source clause: lets see if we can get this door open\n",
            "actual target clause: veamos si podemos abrir esta puerta\n",
            "predicted target clause: eenmos deeearemos d aia asta maedta\n",
            "-------------------------------------------\n",
            "Iter number 2500 : 1.8289721012115479\n",
            "source clause: shall we dance\n",
            "actual target clause: quiere bailar\n",
            "predicted target clause: nuiere pavdl\n",
            "-------------------------------------------\n",
            "Iter number 2600 : 1.6319658756256104\n",
            "source clause: thats amazing\n",
            "actual target clause: increible\n",
            "predicted target clause: entai aae\n",
            "-------------------------------------------\n",
            "Iter number 2700 : 1.570217490196228\n",
            "source clause: there is something about him i dont like\n",
            "actual target clause: hay algo acerca de el que no me agrada\n",
            "predicted target clause: lay mlgu e hrri ee en eue ho ea h ua\n",
            "-------------------------------------------\n",
            "Iter number 2800 : 1.5580259561538696\n",
            "source clause: tom bought his truck used\n",
            "actual target clause: tom compro su camion usado\n",
            "predicted target clause: tom yompre se aosin  an  a\n",
            "-------------------------------------------\n",
            "Iter number 2900 : 1.144859790802002\n",
            "source clause: tom knows mary wont tell john\n",
            "actual target clause: tom sabe que mary no se lo contara a john\n",
            "predicted target clause: tom eebe eue eary ao eu ma eon ar\n",
            "-------------------------------------------\n",
            "Iter number 3000 : 1.6647846698760986\n",
            "source clause: we could not bear to listen to the sick childs pathetic cries\n",
            "actual target clause: no pudimos soportar escuchar el patetico llanto del nino enfermo\n",
            "predicted target clause: eo eeeeaos delertar estueao  en eararamiseaamce ee  pontses urmos    aa      a   s  se sesee   s  a   \n",
            "-------------------------------------------\n",
            "Iter number 3100 : 1.266311764717102\n",
            "source clause: where is your jacket\n",
            "actual target clause: donde esta tu campera\n",
            "predicted target clause: conde esta eu eambrzanei a aaaaaaaaa  a  a ao aaaaaaa aa aaaaaaaaa  aaaaa a aa aaaoaaoaaaaaaaaaaaaaaeoe a oaaooaooaaaeaaaaaaa\n",
            "-------------------------------------------\n",
            "Iter number 3200 : 1.6514005661010742\n",
            "source clause: youre a good father\n",
            "actual target clause: sos un buen padre\n",
            "predicted target clause: ten en euen earre\n",
            "-------------------------------------------\n",
            "Epoch number 4\n",
            "Iter number 0 : 1.972070336341858\n",
            "source clause: a baby has delicate skin\n",
            "actual target clause: un bebe tiene la piel sensible\n",
            "predicted target clause: es eubereuenesea eadnleomtetle\n",
            "-------------------------------------------\n",
            "Iter number 100 : 1.279271125793457\n",
            "source clause: do you have more than one copy of this key\n",
            "actual target clause: acaso tienes mas de una copia de esta llave\n",
            "predicted target clause: p asi qeenes aas de ln  conedrde esta aaaviraaaaa aaa aaaa a a  aaa aaaaa  aaaaaaaaaa aaa eaaaa aaaaaa aa a aaaaeaaaaaaeeeaaaa aaee aa    ae   a aae              e eeeeeaaea aaea aa aa  aa    aaa     \n",
            "-------------------------------------------\n",
            "Iter number 200 : 1.678836703300476\n",
            "source clause: he didnt like to be punished\n",
            "actual target clause: a el no le gustaba que le castigaran\n",
            "predicted target clause: eltl eo ea eusto a eue eaeeomaono\n",
            "-------------------------------------------\n",
            "Iter number 300 : 1.485230565071106\n",
            "source clause: how do i turn this off\n",
            "actual target clause: como apago esto\n",
            "predicted target clause: eomo s ero ssta     a   aaa    a   a a     aaaa a aa    aa   a  aaaa   a        aa  eo    aa  aaaaeeaaaa  ao eeaaaaeaaeaaea\n",
            "-------------------------------------------\n",
            "Iter number 400 : 1.163472294807434\n",
            "source clause: i dont want tom giving mary advice\n",
            "actual target clause: no quiero que tom le de consejos a mary\n",
            "predicted target clause: no quiero que eem ea ee lonfere\n",
            "-------------------------------------------\n",
            "Iter number 500 : 1.5898768901824951\n",
            "source clause: i only need a minute\n",
            "actual target clause: no necesito mas que un minuto\n",
            "predicted target clause: ne qecesito aen mue enami oto\n",
            "-------------------------------------------\n",
            "Iter number 600 : 1.7052913904190063\n",
            "source clause: i wrote that\n",
            "actual target clause: yo escribi eso\n",
            "predicted target clause: mo tstribaoaso\n",
            "-------------------------------------------\n",
            "Iter number 700 : 1.7184165716171265\n",
            "source clause: it is difficult to walk kilometers a day\n",
            "actual target clause: es dificil caminar kilometros en un dia\n",
            "predicted target clause: esteefecie posino  eeei  naa  qs en pea\n",
            "-------------------------------------------\n",
            "Iter number 800 : 1.689432144165039\n",
            "source clause: marys new hairstyle made her stand out in the crowd\n",
            "actual target clause: el nuevo peinado de mary la hace destacar entre la multitud\n",
            "predicted target clause: es eonvoseardo o ee eary da ea eree pa i  es aa ea cantrdanaa                a      an ao o o      a aaa     o aaaaaaoaaaaaa\n",
            "-------------------------------------------\n",
            "Iter number 900 : 1.5068093538284302\n",
            "source clause: she had to take care of her sister\n",
            "actual target clause: ella tenia que cuidar de su hermana\n",
            "predicted target clause: ella eo ia lue eoada  ee eu cirma\n",
            "-------------------------------------------\n",
            "Iter number 1000 : 1.6747204065322876\n",
            "source clause: the box is heavy\n",
            "actual target clause: la caja es pesada\n",
            "predicted target clause: ea easo es eolo o\n",
            "-------------------------------------------\n",
            "Iter number 1100 : 1.74513840675354\n",
            "source clause: they built a fence around the farm\n",
            "actual target clause: levantaron una valla alrededor de la granja\n",
            "predicted target clause: ha a  e  n ena peyienc gisisos ee ea caanao\n",
            "-------------------------------------------\n",
            "Iter number 1200 : 1.2851842641830444\n",
            "source clause: tom didnt expect to hear marys voice\n",
            "actual target clause: tom no esperaba oir la voz de mary\n",
            "predicted target clause: tom no plturo a c d aa cel de dary\n",
            "-------------------------------------------\n",
            "Iter number 1300 : 1.4876140356063843\n",
            "source clause: tom opened the door to his office\n",
            "actual target clause: tom abrio la puerta de su oficina\n",
            "predicted target clause: tom n iea aa caedta me lu ptecioa\n",
            "-------------------------------------------\n",
            "Iter number 1400 : 1.5619738101959229\n",
            "source clause: we live in a very safe country\n",
            "actual target clause: vivimos en un pais muy seguro\n",
            "predicted target clause: nivimos antan perd aac pe ana\n",
            "-------------------------------------------\n",
            "Iter number 1500 : 1.2505649328231812\n",
            "source clause: who is going to put and end to this strike\n",
            "actual target clause: quien pondra fin a esta huelga\n",
            "predicted target clause: duien earsei eueoe esta eablaosaaaaaaaaaaaaaaaaaaaaaaaaaaaeaaaaaaaaaaaaaaaa aa aaaaaaeaaaaeaaaaaaaaaoaeaeaaaaeaaaaeaaaeeoeaeeaa\n",
            "-------------------------------------------\n",
            "Iter number 1600 : 1.4612984657287598\n",
            "source clause: youre really beautiful\n",
            "actual target clause: eres realmente hermoso\n",
            "predicted target clause: tres eessiente earmis\n",
            "-------------------------------------------\n",
            "Iter number 1700 : 1.5980991125106812\n",
            "source clause: do what he tells you\n",
            "actual target clause: hazlo como te dice\n",
            "predicted target clause: taslo qoni ao eeai\n",
            "-------------------------------------------\n",
            "Iter number 1800 : 1.5709929466247559\n",
            "source clause: he can do it well and you can do it even better\n",
            "actual target clause: el puede hacerlo bien y tu lo puedes hacer incluso mejor\n",
            "predicted target clause: el arede aaser o auentl eo ee qoedo  easer entoena\n",
            "-------------------------------------------\n",
            "Iter number 1900 : 1.8493541479110718\n",
            "source clause: hi come on in\n",
            "actual target clause: hola pasa adelante\n",
            "predicted target clause: eamo varoda ano\n",
            "-------------------------------------------\n",
            "Iter number 2000 : 1.337302327156067\n",
            "source clause: i dont like being controlled\n",
            "actual target clause: no me gusta ser controlada\n",
            "predicted target clause: no te nusta men aontaa\n",
            "-------------------------------------------\n",
            "Iter number 2100 : 1.5973091125488281\n",
            "source clause: i missed the train by two minutes\n",
            "actual target clause: se me paso el tren por dos minutos\n",
            "predicted target clause: me me gara en moanelar eel misotas\n",
            "-------------------------------------------\n",
            "Iter number 2200 : 1.6762727499008179\n",
            "source clause: i will always remember you\n",
            "actual target clause: siempre me acordare de ti\n",
            "predicted target clause: qe mpre eu ala da   ae ao\n",
            "-------------------------------------------\n",
            "Iter number 2300 : 1.6872345209121704\n",
            "source clause: is it a wolf\n",
            "actual target clause: es un lobo\n",
            "predicted target clause: esten pasl a\n",
            "-------------------------------------------\n",
            "Iter number 2400 : 1.465030312538147\n",
            "source clause: lets see if we can get this door open\n",
            "actual target clause: veamos si podemos abrir esta puerta\n",
            "predicted target clause: eanmos deeparrmos a aia asta eaerta\n",
            "-------------------------------------------\n",
            "Iter number 2500 : 1.7001698017120361\n",
            "source clause: shall we dance\n",
            "actual target clause: quiere bailar\n",
            "predicted target clause: eueero loill \n",
            "-------------------------------------------\n",
            "Iter number 2600 : 1.5252348184585571\n",
            "source clause: thats amazing\n",
            "actual target clause: increible\n",
            "predicted target clause: entaitaae\n",
            "-------------------------------------------\n",
            "Iter number 2700 : 1.4839774370193481\n",
            "source clause: there is something about him i dont like\n",
            "actual target clause: hay algo acerca de el que no me agrada\n",
            "predicted target clause: eay mlgu e arra me en mue ho eu h uada\n",
            "-------------------------------------------\n",
            "Iter number 2800 : 1.485290288925171\n",
            "source clause: tom bought his truck used\n",
            "actual target clause: tom compro su camion usado\n",
            "predicted target clause: tom yomire leepasar  dni o\n",
            "-------------------------------------------\n",
            "Iter number 2900 : 1.0424647331237793\n",
            "source clause: tom knows mary wont tell john\n",
            "actual target clause: tom sabe que mary no se lo contara a john\n",
            "predicted target clause: tom nebe eue nary eo ea ma aonor\n",
            "-------------------------------------------\n",
            "Iter number 3000 : 1.5558384656906128\n",
            "source clause: we could not bear to listen to the sick childs pathetic cries\n",
            "actual target clause: no pudimos soportar escuchar el patetico llanto del nino enfermo\n",
            "predicted target clause: eo poeocos denartar estueha  es caresedo eaamce ee  ponosds eries    aaooa   aooaao   oio  oasa o aaaeo i  aeaoaeeeeoeaeeane\n",
            "-------------------------------------------\n",
            "Iter number 3100 : 1.164499044418335\n",
            "source clause: where is your jacket\n",
            "actual target clause: donde esta tu campera\n",
            "predicted target clause: conde esta eo eomiozanoaaaaaaaoeaaaaaaaoaaooooaaaaaaaoaaooaoaaaaaaaooaaoooaaaaoaaaaooooaoaoaeoaoaoaaaeaaaoaaaooeoaeaaeeeoeoaoeooooeeo\n",
            "-------------------------------------------\n",
            "Iter number 3200 : 1.5222607851028442\n",
            "source clause: youre a good father\n",
            "actual target clause: sos un buen padre\n",
            "predicted target clause: ten pn puer trrre\n",
            "-------------------------------------------\n"
          ]
        }
      ]
    },
    {
      "cell_type": "code",
      "source": [
        "#making predictions using the trained model\n",
        "neuralnet.eval()\n",
        "def predict(en_sen):\n",
        "  en_sen = (en_sen,)\n",
        "  sp_sen = (\"\",)\n",
        "  for wc in range(m_seq_l):\n",
        "    enc_sam, dec_sam, dec_cam= generate_mask_values(en_sen, sp_sen)\n",
        "    translations = neuralnet(en_sen,sp_sen,enc_sam.to(device),dec_sam.to(device),dec_cam.to(device),enc_st_tok=False,enc_e_tok=False,dec_st_tok=True,dec_e_tok=False)\n",
        "    token_pd_values = translations[0][wc]\n",
        "    token_id_values = torch.argmax(token_pd_values).item()\n",
        "    token_new = in_to_sp[token_id_values]\n",
        "    sp_sen = (sp_sen[0] + token_new, )\n",
        "    if token_new == e_tok:\n",
        "      break\n",
        "  return sp_sen[0]"
      ],
      "metadata": {
        "id": "ZOQe-juylBiJ"
      },
      "execution_count": null,
      "outputs": []
    },
    {
      "cell_type": "code",
      "source": [
        "#registering a user defined function with spark functions\n",
        "from pyspark.sql.functions import udf,lower\n",
        "predict_udf = udf(predict)\n",
        "#using the predict function to translate test dataset\n",
        "test_df = test_df.withColumn(\"predicted_spanish\", predict_udf(lower(test_df[\"english\"])))"
      ],
      "metadata": {
        "id": "5QXz94Elem8i"
      },
      "execution_count": null,
      "outputs": []
    },
    {
      "cell_type": "code",
      "source": [
        "test_df.show(truncate=False)"
      ],
      "metadata": {
        "id": "oUmt3BF0eA8U",
        "colab": {
          "base_uri": "https://localhost:8080/"
        },
        "outputId": "3b257a4f-523c-438d-dad1-23a1ec72a329"
      },
      "execution_count": null,
      "outputs": [
        {
          "output_type": "stream",
          "name": "stdout",
          "text": [
            "+-------------------------------------------------------------------------+----------------------------------------------------------------------------------+--------------------------------------------------------------------------------------------------------------------------------------------------------------------------------------------------------+\n",
            "|english                                                                  |spanish                                                                           |predicted_spanish                                                                                                                                                                                       |\n",
            "+-------------------------------------------------------------------------+----------------------------------------------------------------------------------+--------------------------------------------------------------------------------------------------------------------------------------------------------------------------------------------------------+\n",
            "|a ball flew in through the window                                        |una pelota entro volando por la ventana                                           |tu estas en el esta en el estana<end>                                                                                                                                                                   |\n",
            "|a bear will not touch a dead body                                        |un oso no tocara un cadaver                                                       |tu eres en el estar el esta con el comida<end>                                                                                                                                                          |\n",
            "|a bee flew out of the window                                             |una abeja salio volando por la ventana                                            |tu eres estas en el estando<end>                                                                                                                                                                        |\n",
            "|a big earthquake occurred in tokyo                                       |hubo un gran terremoto en tokio                                                   |eres estas estas en el manando en el manando<end>                                                                                                                                                       |\n",
            "|a bird was flying high up in the sky                                     |un pajaro volaba alto por el aire                                                 |eres estas en el esta esta esta esta esta esta<end>                                                                                                                                                     |\n",
            "|a blood vessel burst inside his brain                                    |un vaso sanguineo se rompio dentro de su cerebro                                  |eres estas esta esta esta esta esta esta esta esta esta esta<end>                                                                                                                                       |\n",
            "|a boy is taking his sweet time pushing the cart toward the curb          |un chico emplea su dulce tiempo en empujar su carrito hacia el bordillo           |tu estas esta esta es esta esta esta esta esta esta en el es de esta el es de esta el es de el es der der e de de der derer dererer den de dererer ele e der dene de dene de de eno de er er er er er es|\n",
            "|a burglar broke into his house                                           |un ladron entro a su casa                                                         |eres estas en esta esta esta esta esta<end>                                                                                                                                                             |\n",
            "|a cargo vessel bound for athens sank in the mediterranean without a trace|un buque de carga con rumbo a atenas se hundio en el mediterraneo sin dejar rastro|eres esta esta esta en esta esta esta esta en el esta en el esta en el en el en el el en el en ela en ecoven elococococococococococococococococontococonton der decontonto<end>                         |\n",
            "|a cat appeared from under the desk                                       |aparecio un gato de abajo del escritorio                                          |eres estas estas en esta esta esta esta esta esta<end>                                                                                                                                                  |\n",
            "|a cat can see in the dark                                                |los gatos pueden ver en la oscuridad                                              |no estas esta en el esta en el esta en el el el esta<end>                                                                                                                                               |\n",
            "|a cat has a tail and four legs                                           |un gato tiene una cola y cuatro patas                                             |tu estas estas en el esta esta esta estas<end>                                                                                                                                                          |\n",
            "|a cat was on the table                                                   |sobre la mesa habia un gato                                                       |tu eres estas en el esta<end>                                                                                                                                                                           |\n",
            "|a century is one hundred years                                           |un siglo tiene cien anos                                                          |eres estas esta esta esta estas<end>                                                                                                                                                                    |\n",
            "|a company that stifles innovation cant hope to grow very much            |una empresa que frena la innovacion no puede esperar crecer mucho                 |no puedes esta esta en el esta en el el poco el el el el el el el el el el el el el el es en ela en diegomenememerererereriantorererericostostorererererererico<end>                                    |\n",
            "|a cow has a long tail                                                    |una vaca tiene la cola larga                                                      |tu eres estas en el esta esta<end>                                                                                                                                                                      |\n",
            "|a day has twentyfour hours                                               |un dia tiene veinticuatro horas                                                   |tu estas estas en estas en estas<end>                                                                                                                                                                   |\n",
            "|a few of these are mine                                                  |unos pocos de estos son mios                                                      |tu eres estas esta esta mi esta<end>                                                                                                                                                                    |\n",
            "|a fox came along                                                         |llego un zorro                                                                    |eres estas en el en el mien<end>                                                                                                                                                                        |\n",
            "|a friend of mine called on me at my office                               |un amigo me llamo a mi oficina                                                    |eres estas en el con el con el conferme<end>                                                                                                                                                            |\n",
            "+-------------------------------------------------------------------------+----------------------------------------------------------------------------------+--------------------------------------------------------------------------------------------------------------------------------------------------------------------------------------------------------+\n",
            "only showing top 20 rows\n",
            "\n"
          ]
        }
      ]
    },
    {
      "cell_type": "code",
      "source": [
        "#computing bleu score and wer values using nltk\n",
        "import nltk\n",
        "nltk.download('punkt')\n",
        "from nltk.translate.bleu_score import sentence_bleu\n",
        "from nltk.metrics import edit_distance\n",
        "avg_bleu_score=0\n",
        "avg_wer_value=0\n",
        "def get_bleu_score(actual, predicted):\n",
        "    actual_tokens = nltk.word_tokenize(actual.lower())\n",
        "    predicted_tokens = nltk.word_tokenize(predicted.lower())\n",
        "    return sentence_bleu(actual_tokens, predicted_tokens[:-1])\n",
        "def get_wer_value(actual, predicted):\n",
        "    actual_words = actual.split()\n",
        "    predicted_words = predicted.split()\n",
        "    wer_value = edit_distance(actual_words, predicted_words)\n",
        "    wer_value /= len(actual_words)\n",
        "    return wer_value\n"
      ],
      "metadata": {
        "id": "oLGP4Q_Fenwc",
        "colab": {
          "base_uri": "https://localhost:8080/"
        },
        "outputId": "fbfbf5cf-b4d9-4f4a-a86c-1f8fa5fee696"
      },
      "execution_count": null,
      "outputs": [
        {
          "output_type": "stream",
          "name": "stderr",
          "text": [
            "[nltk_data] Downloading package punkt to /root/nltk_data...\n",
            "[nltk_data]   Unzipping tokenizers/punkt.zip.\n"
          ]
        }
      ]
    },
    {
      "cell_type": "code",
      "source": [
        "#generating defined metrics based on predictions made by model\n",
        "bleu_score_gen_udf = udf(get_bleu_score)\n",
        "wer_value_gen_udf = udf(get_wer_value)\n",
        "test_df = test_df.withColumn(\"bleu_score\", bleu_score_gen_udf(test_df['spanish'],test_df[\"predicted_spanish\"]))\n",
        "test_df = test_df.withColumn(\"wer_value\", wer_value_gen_udf(test_df['spanish'],test_df[\"predicted_spanish\"]))"
      ],
      "metadata": {
        "id": "1bJfcrkLjF_G"
      },
      "execution_count": null,
      "outputs": []
    },
    {
      "cell_type": "code",
      "source": [
        "test_df.show()"
      ],
      "metadata": {
        "id": "zJp8c5iojsRB",
        "colab": {
          "base_uri": "https://localhost:8080/"
        },
        "outputId": "b7329d6d-98bf-40fb-b096-35538b051bcc"
      },
      "execution_count": null,
      "outputs": [
        {
          "output_type": "stream",
          "name": "stdout",
          "text": [
            "+--------------------+--------------------+--------------------+--------------------+------------------+\n",
            "|             english|             spanish|   predicted_spanish|          bleu_score|         wer_value|\n",
            "+--------------------+--------------------+--------------------+--------------------+------------------+\n",
            "|a ball flew in th...|una pelota entro ...|tu estas en el es...|                   0|1.1428571428571428|\n",
            "|a bear will not t...|un oso no tocara ...|tu eres en el est...|                   0|1.6666666666666667|\n",
            "|a bee flew out of...|una abeja salio v...|tu eres estas en ...|                   0|               1.0|\n",
            "|a big earthquake ...|hubo un gran terr...|eres estas estas ...|                   0|1.3333333333333333|\n",
            "|a bird was flying...|un pajaro volaba ...|eres estas en el ...|                   0|1.4285714285714286|\n",
            "|a blood vessel bu...|un vaso sanguineo...|eres estas esta e...|                   0|1.3333333333333333|\n",
            "|a boy is taking h...|un chico emplea s...|tu estas esta est...|8.107244643554327...|3.8461538461538463|\n",
            "|a burglar broke i...|un ladron entro a...|eres estas en est...|                   0|1.3333333333333333|\n",
            "|a cargo vessel bo...|un buque de carga...|eres esta esta es...|                   0|            1.8125|\n",
            "|a cat appeared fr...|aparecio un gato ...|eres estas estas ...|                   0|1.4285714285714286|\n",
            "|a cat can see in ...|los gatos pueden ...|no estas esta en ...|                   0|1.8571428571428572|\n",
            "|a cat has a tail ...|un gato tiene una...|tu estas estas en...|                   0|             1.125|\n",
            "|a cat was on the ...|sobre la mesa hab...|tu eres estas en ...|                   0|               1.0|\n",
            "|a century is one ...|un siglo tiene ci...|eres estas esta e...|                   0|               1.2|\n",
            "|a company that st...|una empresa que f...|no puedes esta es...|                   0| 2.727272727272727|\n",
            "|a cow has a long ...|una vaca tiene la...|tu eres estas en ...|                   0|1.1666666666666667|\n",
            "|a day has twentyf...|un dia tiene vein...|tu estas estas en...|                   0|               1.4|\n",
            "|a few of these ar...|unos pocos de est...|tu eres estas est...|                   0|1.1666666666666667|\n",
            "|    a fox came along|      llego un zorro|eres estas en el ...|                   0|2.3333333333333335|\n",
            "|a friend of mine ...|un amigo me llamo...|eres estas en el ...|                   0|1.2857142857142858|\n",
            "+--------------------+--------------------+--------------------+--------------------+------------------+\n",
            "only showing top 20 rows\n",
            "\n"
          ]
        }
      ]
    },
    {
      "cell_type": "code",
      "source": [
        "\n",
        "nltk.download('wordnet')\n",
        "\n",
        "from nltk.translate.meteor_score import meteor_score"
      ],
      "metadata": {
        "id": "bZErMvgqk_uU",
        "colab": {
          "base_uri": "https://localhost:8080/"
        },
        "outputId": "f40e7879-5926-4ba7-cf0f-381472d5f7e5"
      },
      "execution_count": null,
      "outputs": [
        {
          "output_type": "stream",
          "name": "stderr",
          "text": [
            "[nltk_data] Downloading package wordnet to /root/nltk_data...\n"
          ]
        }
      ]
    },
    {
      "cell_type": "code",
      "source": [
        "#computing meteor score using nltk\n",
        "def get_meteor_score(actual, predicted):\n",
        "\n",
        "  actual_tokens = nltk.word_tokenize(actual.lower())\n",
        "\n",
        "  predicted_tokens = nltk.word_tokenize(predicted.lower())\n",
        "\n",
        "  return meteor_score([actual_tokens], predicted_tokens[:-1])"
      ],
      "metadata": {
        "id": "F7m0j-NRSxwF"
      },
      "execution_count": null,
      "outputs": []
    },
    {
      "cell_type": "code",
      "source": [
        "#computing meteor score using model predictions\n",
        "\n",
        "get_meteor_score_udf = udf(get_meteor_score)\n",
        "\n",
        "test_df = test_df.withColumn(\"meteor_score\", get_meteor_score_udf(test_df['spanish'],test_df['predicted_spanish']))"
      ],
      "metadata": {
        "id": "pwjbHi0HS0Bp"
      },
      "execution_count": null,
      "outputs": []
    },
    {
      "cell_type": "code",
      "source": [
        "test_df.show(5)"
      ],
      "metadata": {
        "id": "FmzUQ_mKgyNq",
        "colab": {
          "base_uri": "https://localhost:8080/"
        },
        "outputId": "e065684d-7ea2-4c3a-822b-c4447fa83811"
      },
      "execution_count": null,
      "outputs": [
        {
          "output_type": "stream",
          "name": "stdout",
          "text": [
            "+--------------------+--------------------+--------------------+----------+------------------+-------------------+\n",
            "|             english|             spanish|   predicted_spanish|bleu_score|         wer_value|       meteor_score|\n",
            "+--------------------+--------------------+--------------------+----------+------------------+-------------------+\n",
            "|a ball flew in th...|una pelota entro ...|tu estas en el es...|         0|1.1428571428571428|                0.0|\n",
            "|a bear will not t...|un oso no tocara ...|tu eres en el est...|         0|1.6666666666666667|                0.0|\n",
            "|a bee flew out of...|una abeja salio v...|tu eres estas en ...|         0|               1.0|                0.0|\n",
            "|a big earthquake ...|hubo un gran terr...|eres estas estas ...|         0|1.3333333333333333|0.07692307692307693|\n",
            "|a bird was flying...|un pajaro volaba ...|eres estas en el ...|         0|1.4285714285714286|0.06666666666666667|\n",
            "+--------------------+--------------------+--------------------+----------+------------------+-------------------+\n",
            "only showing top 5 rows\n",
            "\n"
          ]
        }
      ]
    }
  ]
}